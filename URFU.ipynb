{
  "nbformat": 4,
  "nbformat_minor": 0,
  "metadata": {
    "colab": {
      "name": "URFU.ipynb",
      "provenance": [],
      "collapsed_sections": [
        "sWeawNZjP5P7",
        "gAvnFuTqdD6f",
        "-noGMZmFeiBf",
        "jWBpiUsPgvAy",
        "1BfFYnL1qAte",
        "DvNWSqBI-LFH",
        "Oqmpa5OP-c93",
        "odymGXoy_Bqj"
      ],
      "toc_visible": true
    },
    "kernelspec": {
      "name": "python3",
      "display_name": "Python 3"
    },
    "language_info": {
      "name": "python"
    }
  },
  "cells": [
    {
      "cell_type": "code",
      "metadata": {
        "id": "00VgKd6Li0-u"
      },
      "source": [
        "import pandas as pd\n",
        "import numpy as np\n",
        "import zipfile\n",
        "import seaborn as sns\n",
        "\n",
        "import requests\n",
        "from lxml import html\n",
        "import re\n",
        "import time\n",
        "import datetime\n",
        "from nltk.stem.snowball import SnowballStemmer\n",
        "from bs4 import BeautifulSoup\n",
        "from sklearn.feature_extraction.text import CountVectorizer\n",
        "\n",
        "from sklearn.preprocessing import StandardScaler\n",
        "from sklearn.decomposition import TruncatedSVD\n",
        "\n",
        "from matplotlib import pyplot as plt\n",
        "import scipy.stats as st\n",
        "import math\n",
        "from sklearn.preprocessing import MinMaxScaler\n",
        "from sklearn.model_selection import train_test_split\n",
        "\n",
        "import seaborn as sns\n",
        "from sklearn.ensemble import RandomForestRegressor\n",
        "from sklearn.isotonic import IsotonicRegression\n",
        "from sklearn.linear_model import LassoCV, RidgeCV, ElasticNetCV, LinearRegression\n",
        "from sklearn.preprocessing import StandardScaler, MinMaxScaler, RobustScaler, Normalizer, LabelEncoder\n",
        "from sklearn.ensemble import GradientBoostingRegressor, ExtraTreesRegressor\n",
        "from sklearn.svm import SVR\n",
        "from sklearn.preprocessing import StandardScaler \n",
        "\n",
        "from sklearn.model_selection import cross_val_score\n",
        "import seaborn as sns\n",
        "from sklearn.model_selection import GridSearchCV\n",
        "from sklearn.ensemble import StackingRegressor\n",
        "from sklearn.metrics import r2_score, mean_absolute_error, mean_squared_error\n",
        "from sklearn.cluster import KMeans\n",
        "from scipy.cluster.hierarchy import dendrogram, linkage, fcluster\n",
        "from sklearn.cluster import KMeans\n",
        "\n",
        "\n",
        "%matplotlib inline\n",
        "\n",
        "import warnings\n",
        "warnings.filterwarnings(\"ignore\")"
      ],
      "execution_count": 198,
      "outputs": []
    },
    {
      "cell_type": "markdown",
      "metadata": {
        "id": "sWeawNZjP5P7"
      },
      "source": [
        "## Получение данных"
      ]
    },
    {
      "cell_type": "code",
      "metadata": {
        "colab": {
          "base_uri": "https://localhost:8080/",
          "height": 434
        },
        "id": "0hRdzM86jI_b",
        "outputId": "b4c1f634-90e1-4fa6-fcbe-859e2273b883"
      },
      "source": [
        "df = pd.read_csv('hakaton.csv')\n",
        "print(df.shape)\n",
        "df.head()"
      ],
      "execution_count": null,
      "outputs": [
        {
          "output_type": "stream",
          "text": [
            "(328572, 16)\n"
          ],
          "name": "stdout"
        },
        {
          "output_type": "stream",
          "text": [
            "/usr/local/lib/python3.7/dist-packages/IPython/core/interactiveshell.py:2718: DtypeWarning: Columns (14) have mixed types.Specify dtype option on import or set low_memory=False.\n",
            "  interactivity=interactivity, compiler=compiler, result=result)\n"
          ],
          "name": "stderr"
        },
        {
          "output_type": "execute_result",
          "data": {
            "text/html": [
              "<div>\n",
              "<style scoped>\n",
              "    .dataframe tbody tr th:only-of-type {\n",
              "        vertical-align: middle;\n",
              "    }\n",
              "\n",
              "    .dataframe tbody tr th {\n",
              "        vertical-align: top;\n",
              "    }\n",
              "\n",
              "    .dataframe thead th {\n",
              "        text-align: right;\n",
              "    }\n",
              "</style>\n",
              "<table border=\"1\" class=\"dataframe\">\n",
              "  <thead>\n",
              "    <tr style=\"text-align: right;\">\n",
              "      <th></th>\n",
              "      <th>social_type</th>\n",
              "      <th>text</th>\n",
              "      <th>has_images</th>\n",
              "      <th>has_videos</th>\n",
              "      <th>url</th>\n",
              "      <th>likes</th>\n",
              "      <th>comments</th>\n",
              "      <th>reposts</th>\n",
              "      <th>views</th>\n",
              "      <th>is_repost</th>\n",
              "      <th>created_date</th>\n",
              "      <th>updated_date</th>\n",
              "      <th>version</th>\n",
              "      <th>author_id</th>\n",
              "      <th>id</th>\n",
              "      <th>author_subscribers</th>\n",
              "    </tr>\n",
              "  </thead>\n",
              "  <tbody>\n",
              "    <tr>\n",
              "      <th>0</th>\n",
              "      <td>odnoklassniki</td>\n",
              "      <td>&lt;div data-tid=\"152651712709506\" data-l=\"ti,152...</td>\n",
              "      <td>1</td>\n",
              "      <td>0</td>\n",
              "      <td>https://ok.ru/group/42559086985346/topic/15265...</td>\n",
              "      <td>20</td>\n",
              "      <td>2</td>\n",
              "      <td>0</td>\n",
              "      <td>-1</td>\n",
              "      <td>0</td>\n",
              "      <td>2021-04-07 06:30:00</td>\n",
              "      <td>2021-04-07 16:40:11</td>\n",
              "      <td>2</td>\n",
              "      <td>42559086985346</td>\n",
              "      <td>group/42559086985346/topic/152651712709506</td>\n",
              "      <td>682150</td>\n",
              "    </tr>\n",
              "    <tr>\n",
              "      <th>1</th>\n",
              "      <td>odnoklassniki</td>\n",
              "      <td>&lt;div data-tid=\"152651712709506\" data-l=\"ti,152...</td>\n",
              "      <td>1</td>\n",
              "      <td>0</td>\n",
              "      <td>https://ok.ru/group/42559086985346/topic/15265...</td>\n",
              "      <td>23</td>\n",
              "      <td>3</td>\n",
              "      <td>0</td>\n",
              "      <td>-1</td>\n",
              "      <td>0</td>\n",
              "      <td>2021-04-07 06:30:00</td>\n",
              "      <td>2021-04-08 15:07:33</td>\n",
              "      <td>4</td>\n",
              "      <td>42559086985346</td>\n",
              "      <td>group/42559086985346/topic/152651712709506</td>\n",
              "      <td>682138</td>\n",
              "    </tr>\n",
              "    <tr>\n",
              "      <th>2</th>\n",
              "      <td>odnoklassniki</td>\n",
              "      <td>&lt;div data-tid=\"152651712709506\" data-l=\"ti,152...</td>\n",
              "      <td>1</td>\n",
              "      <td>0</td>\n",
              "      <td>https://ok.ru/group/42559086985346/topic/15265...</td>\n",
              "      <td>23</td>\n",
              "      <td>3</td>\n",
              "      <td>0</td>\n",
              "      <td>-1</td>\n",
              "      <td>0</td>\n",
              "      <td>2021-04-06 21:00:00</td>\n",
              "      <td>2021-04-09 05:17:45</td>\n",
              "      <td>6</td>\n",
              "      <td>42559086985346</td>\n",
              "      <td>group/42559086985346/topic/152651712709506</td>\n",
              "      <td>682137</td>\n",
              "    </tr>\n",
              "    <tr>\n",
              "      <th>3</th>\n",
              "      <td>odnoklassniki</td>\n",
              "      <td>&lt;div data-tid=\"152651712709506\" data-l=\"ti,152...</td>\n",
              "      <td>1</td>\n",
              "      <td>0</td>\n",
              "      <td>https://ok.ru/group/42559086985346/topic/15265...</td>\n",
              "      <td>23</td>\n",
              "      <td>3</td>\n",
              "      <td>0</td>\n",
              "      <td>-1</td>\n",
              "      <td>0</td>\n",
              "      <td>2021-04-06 21:00:00</td>\n",
              "      <td>2021-04-09 17:17:49</td>\n",
              "      <td>8</td>\n",
              "      <td>42559086985346</td>\n",
              "      <td>group/42559086985346/topic/152651712709506</td>\n",
              "      <td>682149</td>\n",
              "    </tr>\n",
              "    <tr>\n",
              "      <th>4</th>\n",
              "      <td>odnoklassniki</td>\n",
              "      <td>&lt;div data-tid=\"152651712709506\" data-l=\"ti,152...</td>\n",
              "      <td>1</td>\n",
              "      <td>0</td>\n",
              "      <td>https://ok.ru/group/42559086985346/topic/15265...</td>\n",
              "      <td>23</td>\n",
              "      <td>3</td>\n",
              "      <td>0</td>\n",
              "      <td>-1</td>\n",
              "      <td>0</td>\n",
              "      <td>2021-04-06 21:00:00</td>\n",
              "      <td>2021-04-10 06:12:21</td>\n",
              "      <td>10</td>\n",
              "      <td>42559086985346</td>\n",
              "      <td>group/42559086985346/topic/152651712709506</td>\n",
              "      <td>682149</td>\n",
              "    </tr>\n",
              "  </tbody>\n",
              "</table>\n",
              "</div>"
            ],
            "text/plain": [
              "     social_type  ... author_subscribers\n",
              "0  odnoklassniki  ...             682150\n",
              "1  odnoklassniki  ...             682138\n",
              "2  odnoklassniki  ...             682137\n",
              "3  odnoklassniki  ...             682149\n",
              "4  odnoklassniki  ...             682149\n",
              "\n",
              "[5 rows x 16 columns]"
            ]
          },
          "metadata": {
            "tags": []
          },
          "execution_count": 3
        }
      ]
    },
    {
      "cell_type": "code",
      "metadata": {
        "colab": {
          "base_uri": "https://localhost:8080/"
        },
        "id": "8QAAoRGQzHjc",
        "outputId": "5bf3ec9d-14cf-46e6-9548-1f90f236b3f4"
      },
      "source": [
        "df.info()"
      ],
      "execution_count": null,
      "outputs": [
        {
          "output_type": "stream",
          "text": [
            "<class 'pandas.core.frame.DataFrame'>\n",
            "RangeIndex: 328572 entries, 0 to 328571\n",
            "Data columns (total 16 columns):\n",
            " #   Column              Non-Null Count   Dtype \n",
            "---  ------              --------------   ----- \n",
            " 0   social_type         328572 non-null  object\n",
            " 1   text                318241 non-null  object\n",
            " 2   has_images          328572 non-null  int64 \n",
            " 3   has_videos          328572 non-null  int64 \n",
            " 4   url                 328572 non-null  object\n",
            " 5   likes               328572 non-null  int64 \n",
            " 6   comments            328572 non-null  int64 \n",
            " 7   reposts             328572 non-null  int64 \n",
            " 8   views               328572 non-null  int64 \n",
            " 9   is_repost           328572 non-null  int64 \n",
            " 10  created_date        328572 non-null  object\n",
            " 11  updated_date        328572 non-null  object\n",
            " 12  version             328572 non-null  int64 \n",
            " 13  author_id           328572 non-null  int64 \n",
            " 14  id                  328572 non-null  object\n",
            " 15  author_subscribers  328572 non-null  int64 \n",
            "dtypes: int64(10), object(6)\n",
            "memory usage: 40.1+ MB\n"
          ],
          "name": "stdout"
        }
      ]
    },
    {
      "cell_type": "code",
      "metadata": {
        "colab": {
          "base_uri": "https://localhost:8080/"
        },
        "id": "kOIx5_a5sDKQ",
        "outputId": "8f3f41c5-7c08-4399-fc4d-42ccf68bfd59"
      },
      "source": [
        "df.apply(lambda x: x.isna().sum())"
      ],
      "execution_count": null,
      "outputs": [
        {
          "output_type": "execute_result",
          "data": {
            "text/plain": [
              "social_type               0\n",
              "text                  10331\n",
              "has_images                0\n",
              "has_videos                0\n",
              "url                       0\n",
              "likes                     0\n",
              "comments                  0\n",
              "reposts                   0\n",
              "views                     0\n",
              "is_repost                 0\n",
              "created_date              0\n",
              "updated_date              0\n",
              "version                   0\n",
              "author_id                 0\n",
              "id                        0\n",
              "author_subscribers        0\n",
              "dtype: int64"
            ]
          },
          "metadata": {
            "tags": []
          },
          "execution_count": 5
        }
      ]
    },
    {
      "cell_type": "code",
      "metadata": {
        "colab": {
          "base_uri": "https://localhost:8080/"
        },
        "id": "F70I5x4MsJ26",
        "outputId": "e8ed3053-71ff-4813-9341-99a2cb658c48"
      },
      "source": [
        "df[df['text'].isna()].groupby('social_type').size()"
      ],
      "execution_count": null,
      "outputs": [
        {
          "output_type": "execute_result",
          "data": {
            "text/plain": [
              "social_type\n",
              "odnoklassniki    1171\n",
              "telegram         7867\n",
              "vk               1293\n",
              "dtype: int64"
            ]
          },
          "metadata": {
            "tags": []
          },
          "execution_count": 6
        }
      ]
    },
    {
      "cell_type": "code",
      "metadata": {
        "id": "YqPzgfxaSWUm"
      },
      "source": [
        "df_new = pd.DataFrame(columns = df.columns)\n",
        "\n",
        "id_list = df.groupby('id').size().sort_values()\n",
        "\n",
        "for i, (id, count) in enumerate(zip(id_list.index, id_list.values)):\n",
        "  print(i)\n",
        "  if count == 1:\n",
        "    data = df[df['id'] == id]\n",
        "    df_new = df_new.append(data)\n",
        "    continue\n",
        "  \n",
        "  if df[df['id'] == id].head(1)['views'].values[0] == -1:\n",
        "    data = df[df['id'] == id]\n",
        "    start_date = data.head(1)['created_date']\n",
        "    finish_date  = data.tail(1)['updated_date']\n",
        "    new_data = data.tail(1)\n",
        "    new_data['updated_date'] = pd.to_datetime(finish_date.values) - pd.to_datetime(start_date.values)\n",
        "    df_new = df_new.append(new_data)\n",
        "    continue\n",
        "\n",
        "  data = df[df['id'] == id]\n",
        "  finish_date  = data.tail(1)['updated_date']\n",
        "  \n",
        "  start_views = data.head(1)['views'].values[0]\n",
        "  finish_views = data.tail(1)['views'].values[0]\n",
        "\n",
        "  new_data = data.tail(1)\n",
        "  new_data['views'] =  finish_views - start_views\n",
        "  new_data['updated_date'] = pd.to_datetime(finish_date.values)\n",
        "  df_new = df_new.append(new_data)"
      ],
      "execution_count": null,
      "outputs": []
    },
    {
      "cell_type": "code",
      "metadata": {
        "colab": {
          "base_uri": "https://localhost:8080/"
        },
        "id": "tmcj0iFNSWd0",
        "outputId": "d1b58def-4b5b-40b3-832c-8249e2166c59"
      },
      "source": [
        "df_new.shape"
      ],
      "execution_count": null,
      "outputs": [
        {
          "output_type": "execute_result",
          "data": {
            "text/plain": [
              "(63033, 16)"
            ]
          },
          "metadata": {
            "tags": []
          },
          "execution_count": 252
        }
      ]
    },
    {
      "cell_type": "code",
      "metadata": {
        "id": "JcJZpZTUPgpm"
      },
      "source": [
        "df_new.to_csv('datav.02.csv')"
      ],
      "execution_count": null,
      "outputs": []
    },
    {
      "cell_type": "code",
      "metadata": {
        "id": "N0INNDW8Q1yi"
      },
      "source": [
        "df_new.head()"
      ],
      "execution_count": null,
      "outputs": []
    },
    {
      "cell_type": "markdown",
      "metadata": {
        "id": "icJNKujIP3AP"
      },
      "source": [
        "## Работа с данными"
      ]
    },
    {
      "cell_type": "code",
      "metadata": {
        "colab": {
          "base_uri": "https://localhost:8080/",
          "height": 518
        },
        "id": "vtQ2XLrAPqN9",
        "outputId": "ce80956b-55f1-4751-cfb6-c9c8a1b7bd39"
      },
      "source": [
        "df = pd.read_csv('datav.02.csv', index_col = ['Unnamed: 0'])\n",
        "df.head()"
      ],
      "execution_count": 10,
      "outputs": [
        {
          "output_type": "execute_result",
          "data": {
            "text/html": [
              "<div>\n",
              "<style scoped>\n",
              "    .dataframe tbody tr th:only-of-type {\n",
              "        vertical-align: middle;\n",
              "    }\n",
              "\n",
              "    .dataframe tbody tr th {\n",
              "        vertical-align: top;\n",
              "    }\n",
              "\n",
              "    .dataframe thead th {\n",
              "        text-align: right;\n",
              "    }\n",
              "</style>\n",
              "<table border=\"1\" class=\"dataframe\">\n",
              "  <thead>\n",
              "    <tr style=\"text-align: right;\">\n",
              "      <th></th>\n",
              "      <th>social_type</th>\n",
              "      <th>text</th>\n",
              "      <th>has_images</th>\n",
              "      <th>has_videos</th>\n",
              "      <th>url</th>\n",
              "      <th>likes</th>\n",
              "      <th>comments</th>\n",
              "      <th>reposts</th>\n",
              "      <th>views</th>\n",
              "      <th>is_repost</th>\n",
              "      <th>created_date</th>\n",
              "      <th>updated_date</th>\n",
              "      <th>version</th>\n",
              "      <th>author_id</th>\n",
              "      <th>id</th>\n",
              "      <th>author_subscribers</th>\n",
              "    </tr>\n",
              "  </thead>\n",
              "  <tbody>\n",
              "    <tr>\n",
              "      <th>214636</th>\n",
              "      <td>telegram</td>\n",
              "      <td>На этой неделе выйдет обновление Zombie Army 4...</td>\n",
              "      <td>0</td>\n",
              "      <td>0</td>\n",
              "      <td>https://t.me/overclockers_news/42310</td>\n",
              "      <td>-1</td>\n",
              "      <td>-1</td>\n",
              "      <td>-1</td>\n",
              "      <td>1600</td>\n",
              "      <td>0</td>\n",
              "      <td>2021-04-06 21:00:03</td>\n",
              "      <td>2021-04-07 14:43:41</td>\n",
              "      <td>5</td>\n",
              "      <td>31767</td>\n",
              "      <td>2546133631219270918</td>\n",
              "      <td>11100</td>\n",
              "    </tr>\n",
              "    <tr>\n",
              "      <th>304200</th>\n",
              "      <td>vk</td>\n",
              "      <td>Исковое заявление, жалобу, представление и дру...</td>\n",
              "      <td>0</td>\n",
              "      <td>0</td>\n",
              "      <td>https://vk.com/wall-28947253_8262</td>\n",
              "      <td>2</td>\n",
              "      <td>0</td>\n",
              "      <td>1</td>\n",
              "      <td>27</td>\n",
              "      <td>0</td>\n",
              "      <td>2021-04-07 13:15:00</td>\n",
              "      <td>2021-04-08 06:16:45</td>\n",
              "      <td>5</td>\n",
              "      <td>-28947253</td>\n",
              "      <td>wall-28947253_8262</td>\n",
              "      <td>1452</td>\n",
              "    </tr>\n",
              "    <tr>\n",
              "      <th>304201</th>\n",
              "      <td>vk</td>\n",
              "      <td>Выставка «Империя Азнавура» представлена в Нац...</td>\n",
              "      <td>0</td>\n",
              "      <td>0</td>\n",
              "      <td>https://vk.com/wall-28951727_32910</td>\n",
              "      <td>0</td>\n",
              "      <td>0</td>\n",
              "      <td>0</td>\n",
              "      <td>1</td>\n",
              "      <td>0</td>\n",
              "      <td>2021-04-07 06:48:00</td>\n",
              "      <td>2021-04-07 06:50:36</td>\n",
              "      <td>3</td>\n",
              "      <td>-28951727</td>\n",
              "      <td>wall-28951727_32910</td>\n",
              "      <td>4700</td>\n",
              "    </tr>\n",
              "    <tr>\n",
              "      <th>304202</th>\n",
              "      <td>vk</td>\n",
              "      <td>Вести. Россия 24&lt;br/&gt;&lt;br/&gt;Вячеслав Битаров вст...</td>\n",
              "      <td>0</td>\n",
              "      <td>0</td>\n",
              "      <td>https://vk.com/wall-28951727_32923</td>\n",
              "      <td>0</td>\n",
              "      <td>0</td>\n",
              "      <td>0</td>\n",
              "      <td>4</td>\n",
              "      <td>0</td>\n",
              "      <td>2021-04-07 16:22:00</td>\n",
              "      <td>2021-04-07 16:25:58</td>\n",
              "      <td>3</td>\n",
              "      <td>-28951727</td>\n",
              "      <td>wall-28951727_32923</td>\n",
              "      <td>4700</td>\n",
              "    </tr>\n",
              "    <tr>\n",
              "      <th>304203</th>\n",
              "      <td>vk</td>\n",
              "      <td>&lt;span&gt;Россия 24. Сотрудничество Объединенного ...</td>\n",
              "      <td>0</td>\n",
              "      <td>0</td>\n",
              "      <td>https://vk.com/wall-28951727_32924</td>\n",
              "      <td>0</td>\n",
              "      <td>0</td>\n",
              "      <td>0</td>\n",
              "      <td>2</td>\n",
              "      <td>0</td>\n",
              "      <td>2021-04-07 17:29:00</td>\n",
              "      <td>2021-04-07 17:40:48</td>\n",
              "      <td>3</td>\n",
              "      <td>-28951727</td>\n",
              "      <td>wall-28951727_32924</td>\n",
              "      <td>4700</td>\n",
              "    </tr>\n",
              "  </tbody>\n",
              "</table>\n",
              "</div>"
            ],
            "text/plain": [
              "       social_type  ... author_subscribers\n",
              "214636    telegram  ...              11100\n",
              "304200          vk  ...               1452\n",
              "304201          vk  ...               4700\n",
              "304202          vk  ...               4700\n",
              "304203          vk  ...               4700\n",
              "\n",
              "[5 rows x 16 columns]"
            ]
          },
          "metadata": {
            "tags": []
          },
          "execution_count": 10
        }
      ]
    },
    {
      "cell_type": "code",
      "metadata": {
        "colab": {
          "base_uri": "https://localhost:8080/"
        },
        "id": "6dT63GEOQlqJ",
        "outputId": "94beac00-9fd8-4075-8816-3409c0aae2c4"
      },
      "source": [
        "vk_df = df[df['social_type'] == 'vk']\n",
        "tg_df = df[df['social_type'] == 'telegram']\n",
        "od_df = df[df['social_type'] == 'odnoklassniki']\n",
        "vk_df.shape, tg_df.shape, od_df.shape"
      ],
      "execution_count": 215,
      "outputs": [
        {
          "output_type": "execute_result",
          "data": {
            "text/plain": [
              "((36759, 16), (9232, 16), (17042, 16))"
            ]
          },
          "metadata": {
            "tags": []
          },
          "execution_count": 215
        }
      ]
    },
    {
      "cell_type": "markdown",
      "metadata": {
        "id": "pnENsCZcTYXO"
      },
      "source": [
        "## работа с vk"
      ]
    },
    {
      "cell_type": "code",
      "metadata": {
        "colab": {
          "base_uri": "https://localhost:8080/"
        },
        "id": "5eBZr6XGTijh",
        "outputId": "5e12581d-21b5-4a69-945c-96bb3f87922c"
      },
      "source": [
        "vk_df.info()"
      ],
      "execution_count": null,
      "outputs": [
        {
          "output_type": "stream",
          "text": [
            "<class 'pandas.core.frame.DataFrame'>\n",
            "Int64Index: 36759 entries, 304200 to 328552\n",
            "Data columns (total 19 columns):\n",
            " #   Column              Non-Null Count  Dtype         \n",
            "---  ------              --------------  -----         \n",
            " 0   social_type         36759 non-null  object        \n",
            " 1   text                36759 non-null  object        \n",
            " 2   has_images          36759 non-null  int64         \n",
            " 3   has_videos          36759 non-null  int64         \n",
            " 4   url                 36759 non-null  object        \n",
            " 5   likes               36759 non-null  int64         \n",
            " 6   comments            36759 non-null  int64         \n",
            " 7   reposts             36759 non-null  int64         \n",
            " 8   views               36759 non-null  int64         \n",
            " 9   is_repost           36759 non-null  int64         \n",
            " 10  created_date        36759 non-null  datetime64[ns]\n",
            " 11  updated_date        36759 non-null  datetime64[ns]\n",
            " 12  version             36759 non-null  int64         \n",
            " 13  author_id           36759 non-null  int64         \n",
            " 14  id                  36759 non-null  object        \n",
            " 15  author_subscribers  36759 non-null  int64         \n",
            " 16  time                36759 non-null  float64       \n",
            " 17  edit_text           36759 non-null  object        \n",
            " 18  hashtags            36759 non-null  object        \n",
            "dtypes: datetime64[ns](2), float64(1), int64(10), object(6)\n",
            "memory usage: 6.9+ MB\n"
          ],
          "name": "stdout"
        }
      ]
    },
    {
      "cell_type": "code",
      "metadata": {
        "colab": {
          "base_uri": "https://localhost:8080/",
          "height": 518
        },
        "id": "6uIqkdBaTXxZ",
        "outputId": "acfb877a-6f5e-4aa0-fb91-d6d7a3436264"
      },
      "source": [
        "vk_df.head()"
      ],
      "execution_count": null,
      "outputs": [
        {
          "output_type": "execute_result",
          "data": {
            "text/html": [
              "<div>\n",
              "<style scoped>\n",
              "    .dataframe tbody tr th:only-of-type {\n",
              "        vertical-align: middle;\n",
              "    }\n",
              "\n",
              "    .dataframe tbody tr th {\n",
              "        vertical-align: top;\n",
              "    }\n",
              "\n",
              "    .dataframe thead th {\n",
              "        text-align: right;\n",
              "    }\n",
              "</style>\n",
              "<table border=\"1\" class=\"dataframe\">\n",
              "  <thead>\n",
              "    <tr style=\"text-align: right;\">\n",
              "      <th></th>\n",
              "      <th>social_type</th>\n",
              "      <th>text</th>\n",
              "      <th>has_images</th>\n",
              "      <th>has_videos</th>\n",
              "      <th>url</th>\n",
              "      <th>likes</th>\n",
              "      <th>comments</th>\n",
              "      <th>reposts</th>\n",
              "      <th>views</th>\n",
              "      <th>is_repost</th>\n",
              "      <th>created_date</th>\n",
              "      <th>updated_date</th>\n",
              "      <th>version</th>\n",
              "      <th>author_id</th>\n",
              "      <th>id</th>\n",
              "      <th>author_subscribers</th>\n",
              "    </tr>\n",
              "  </thead>\n",
              "  <tbody>\n",
              "    <tr>\n",
              "      <th>304200</th>\n",
              "      <td>vk</td>\n",
              "      <td>Исковое заявление, жалобу, представление и дру...</td>\n",
              "      <td>0</td>\n",
              "      <td>0</td>\n",
              "      <td>https://vk.com/wall-28947253_8262</td>\n",
              "      <td>2</td>\n",
              "      <td>0</td>\n",
              "      <td>1</td>\n",
              "      <td>27</td>\n",
              "      <td>0</td>\n",
              "      <td>2021-04-07 13:15:00</td>\n",
              "      <td>2021-04-08 06:16:45</td>\n",
              "      <td>5</td>\n",
              "      <td>-28947253</td>\n",
              "      <td>wall-28947253_8262</td>\n",
              "      <td>1452</td>\n",
              "    </tr>\n",
              "    <tr>\n",
              "      <th>304201</th>\n",
              "      <td>vk</td>\n",
              "      <td>Выставка «Империя Азнавура» представлена в Нац...</td>\n",
              "      <td>0</td>\n",
              "      <td>0</td>\n",
              "      <td>https://vk.com/wall-28951727_32910</td>\n",
              "      <td>0</td>\n",
              "      <td>0</td>\n",
              "      <td>0</td>\n",
              "      <td>1</td>\n",
              "      <td>0</td>\n",
              "      <td>2021-04-07 06:48:00</td>\n",
              "      <td>2021-04-07 06:50:36</td>\n",
              "      <td>3</td>\n",
              "      <td>-28951727</td>\n",
              "      <td>wall-28951727_32910</td>\n",
              "      <td>4700</td>\n",
              "    </tr>\n",
              "    <tr>\n",
              "      <th>304202</th>\n",
              "      <td>vk</td>\n",
              "      <td>Вести. Россия 24&lt;br/&gt;&lt;br/&gt;Вячеслав Битаров вст...</td>\n",
              "      <td>0</td>\n",
              "      <td>0</td>\n",
              "      <td>https://vk.com/wall-28951727_32923</td>\n",
              "      <td>0</td>\n",
              "      <td>0</td>\n",
              "      <td>0</td>\n",
              "      <td>4</td>\n",
              "      <td>0</td>\n",
              "      <td>2021-04-07 16:22:00</td>\n",
              "      <td>2021-04-07 16:25:58</td>\n",
              "      <td>3</td>\n",
              "      <td>-28951727</td>\n",
              "      <td>wall-28951727_32923</td>\n",
              "      <td>4700</td>\n",
              "    </tr>\n",
              "    <tr>\n",
              "      <th>304203</th>\n",
              "      <td>vk</td>\n",
              "      <td>&lt;span&gt;Россия 24. Сотрудничество Объединенного ...</td>\n",
              "      <td>0</td>\n",
              "      <td>0</td>\n",
              "      <td>https://vk.com/wall-28951727_32924</td>\n",
              "      <td>0</td>\n",
              "      <td>0</td>\n",
              "      <td>0</td>\n",
              "      <td>2</td>\n",
              "      <td>0</td>\n",
              "      <td>2021-04-07 17:29:00</td>\n",
              "      <td>2021-04-07 17:40:48</td>\n",
              "      <td>3</td>\n",
              "      <td>-28951727</td>\n",
              "      <td>wall-28951727_32924</td>\n",
              "      <td>4700</td>\n",
              "    </tr>\n",
              "    <tr>\n",
              "      <th>304204</th>\n",
              "      <td>vk</td>\n",
              "      <td>Открытие Private Banking стал главным партнеро...</td>\n",
              "      <td>0</td>\n",
              "      <td>0</td>\n",
              "      <td>https://vk.com/wall-28951727_32925</td>\n",
              "      <td>0</td>\n",
              "      <td>0</td>\n",
              "      <td>0</td>\n",
              "      <td>0</td>\n",
              "      <td>0</td>\n",
              "      <td>2021-04-07 18:30:00</td>\n",
              "      <td>2021-04-07 18:30:30</td>\n",
              "      <td>3</td>\n",
              "      <td>-28951727</td>\n",
              "      <td>wall-28951727_32925</td>\n",
              "      <td>4700</td>\n",
              "    </tr>\n",
              "  </tbody>\n",
              "</table>\n",
              "</div>"
            ],
            "text/plain": [
              "       social_type  ... author_subscribers\n",
              "304200          vk  ...               1452\n",
              "304201          vk  ...               4700\n",
              "304202          vk  ...               4700\n",
              "304203          vk  ...               4700\n",
              "304204          vk  ...               4700\n",
              "\n",
              "[5 rows x 16 columns]"
            ]
          },
          "metadata": {
            "tags": []
          },
          "execution_count": 277
        }
      ]
    },
    {
      "cell_type": "markdown",
      "metadata": {
        "id": "4JuR9J785Z4n"
      },
      "source": [
        "### Идея №1 "
      ]
    },
    {
      "cell_type": "markdown",
      "metadata": {
        "id": "xbmkZoIFeOlC"
      },
      "source": [
        "Напишем алгоритм, открывающий каждый пост, переходящий на группу/профиль человека и возвращающий охват и дату 5-ти последних постов."
      ]
    },
    {
      "cell_type": "code",
      "metadata": {
        "id": "wZTU9rcg7IEa"
      },
      "source": [
        "def get_vk_stats(link):\n",
        "  try:\n",
        "    group_stats = {}\n",
        "    group_url = get_group_link(link)\n",
        "    if group_url in groups.keys():\n",
        "      print(222)\n",
        "      return groups[group_url]\n",
        "    print(group_url)\n",
        "    if group_url:\n",
        "      r = requests.Session().get(group_url).content.decode('utf-8')\n",
        "      tree = html.fromstring(r)\n",
        "      time.sleep(1)\n",
        "      if tree.xpath(\"//h1[@class = 'page_name']//text()\") != []:\n",
        "        print(666)\n",
        "      group_stats['url'] = group_url\n",
        "      group_stats['dates'] = tree.xpath(\"//a[@class = 'wi_date']//text()\")\n",
        "      group_stats['dates'] = [change_date(x) for x in group_stats['dates']]\n",
        "      group_stats['list_views'] = tree.xpath(\"//b[@class = 'v_views']//text()\")\n",
        "      group_stats['list_views'] = [value_to_float(x) for x in group_stats['list_views']]\n",
        "      group_stats['trend'] = [group_stats['dates'][i]/group_stats['list_views'][i]\n",
        "                              for i in range(len(group_stats['list_views']))]\n",
        "      group_stats['value'] = pd.Series([group_stats['trend'][i+1]-group_stats['trend'][i]\n",
        "                              for i in range(len(group_stats['trend']) - 1)]).mean()\n",
        "      groups[group_url] = group_stats\n",
        "      return group_stats['value']\n",
        "    else:\n",
        "      return 'Not found'\n",
        "  except:\n",
        "    return None\n",
        "\n",
        "\n",
        "def get_group_link(link):\n",
        "  try:\n",
        "    r = requests.Session().get(link).content.decode('utf-8')\n",
        "    tree = html.fromstring(r)\n",
        "    xpath = tree.xpath(\"//div[@class = 'wi_head']//@href\")\n",
        "    group_name = re.findall(r'/\\w+', xpath[0])\n",
        "    group_url = 'https://vk.com' + group_name[0]\n",
        "    return group_url\n",
        "  except:\n",
        "    return False\n",
        "\n",
        "  def value_to_float(x):\n",
        "    if type(x) == float or type(x) == int:\n",
        "        return x\n",
        "    if 'K' in x:\n",
        "        if len(x) > 1:\n",
        "            return float(x.replace('K', '')) * 1000\n",
        "        return 1000.0\n",
        "    if 'M' in x:\n",
        "        if len(x) > 1:\n",
        "            return float(x.replace('M', '')) * 1000000\n",
        "        return 1000000.0\n",
        "    if 'B' in x:\n",
        "        return float(x.replace('B', '')) * 1000000000\n",
        "    else:\n",
        "      return float(x)\n",
        "    return 0.0\n",
        "\n",
        "  def change_date(x):\n",
        "    if 'today' in x:\n",
        "      return 1\n",
        "    elif 'yesterday' in x:\n",
        "      return 2\n",
        "    else:\n",
        "      date = x.split(' ')\n",
        "      date_post = datetime.datetime.strptime(f'{date[0]} {date[1]} 2021', '%d %b %Y')\n",
        "      curr_date = datetime.datetime.today() - date_post\n",
        "      return curr_date.days\n",
        "\n",
        "groups = {}"
      ],
      "execution_count": null,
      "outputs": []
    },
    {
      "cell_type": "markdown",
      "metadata": {
        "id": "D2fZ59r0ehr5"
      },
      "source": [
        "К сожалению, данный алгоритм не уклыдвался во временные рамки хакатона"
      ]
    },
    {
      "cell_type": "code",
      "metadata": {
        "colab": {
          "base_uri": "https://localhost:8080/"
        },
        "id": "rOTeINhY1ZPn",
        "outputId": "ccb58fac-6ade-477a-9350-425a066db844"
      },
      "source": [
        "vk_df.shape"
      ],
      "execution_count": null,
      "outputs": [
        {
          "output_type": "execute_result",
          "data": {
            "text/plain": [
              "(36759, 16)"
            ]
          },
          "metadata": {
            "tags": []
          },
          "execution_count": 449
        }
      ]
    },
    {
      "cell_type": "code",
      "metadata": {
        "id": "O3EMB7zET9BA"
      },
      "source": [
        "# values = []\n",
        "# for id, link in enumerate(vk_df['url'].iloc[:,]):\n",
        "#   print(id)\n",
        "#   values.append(get_vk_stats(link))"
      ],
      "execution_count": null,
      "outputs": []
    },
    {
      "cell_type": "markdown",
      "metadata": {
        "id": "53qNuSSU5iWL"
      },
      "source": [
        "### Идея №2"
      ]
    },
    {
      "cell_type": "markdown",
      "metadata": {
        "id": "5Y9lpGFweyvJ"
      },
      "source": [
        "Используем основные данные"
      ]
    },
    {
      "cell_type": "markdown",
      "metadata": {
        "id": "bw1rIf2C9rUQ"
      },
      "source": [
        "### обработка данных"
      ]
    },
    {
      "cell_type": "code",
      "metadata": {
        "id": "SaDwdp6L6PMY"
      },
      "source": [
        "vk_df['created_date'] = pd.to_datetime(vk_df['created_date'])\n",
        "vk_df['updated_date'] = pd.to_datetime(vk_df['updated_date'])"
      ],
      "execution_count": 13,
      "outputs": []
    },
    {
      "cell_type": "markdown",
      "metadata": {
        "id": "4FWVHRPBe9xw"
      },
      "source": [
        "Находим разность времени размещения поста и последним обновлением"
      ]
    },
    {
      "cell_type": "code",
      "metadata": {
        "id": "0Q4n8Brc6_9H"
      },
      "source": [
        "vk_df['time'] = pd.to_timedelta(vk_df['updated_date'] - vk_df['created_date']).apply(lambda x: x.total_seconds())"
      ],
      "execution_count": 14,
      "outputs": []
    },
    {
      "cell_type": "markdown",
      "metadata": {
        "id": "fI5Y00QdfKMG"
      },
      "source": [
        "Очищаем текст от html"
      ]
    },
    {
      "cell_type": "code",
      "metadata": {
        "id": "M0so5MQN9pkz"
      },
      "source": [
        "vk_df['edit_text'] = vk_df['text'].apply(lambda x: BeautifulSoup(str(x), 'lxml').text)\n",
        "vk_df['text'] = vk_df['edit_text'].apply(lambda x: x.split('#')[0])\n",
        "vk_df['hashtags'] =  vk_df['edit_text'].apply(lambda x: ' '.join(re.findall(r'#\\w+', x)).strip()) "
      ],
      "execution_count": 15,
      "outputs": []
    },
    {
      "cell_type": "markdown",
      "metadata": {
        "id": "u9RL099zfQ9p"
      },
      "source": [
        "Преабразуем текст в число с помощью стемминга -> CountVectorizer"
      ]
    },
    {
      "cell_type": "code",
      "metadata": {
        "id": "CbLfDtRcE1Ti"
      },
      "source": [
        "stemmer = SnowballStemmer(\"russian\")\n",
        "vk_df['stem_text'] = vk_df['edit_text'].apply(lambda x: ' '.join([stemmer.stem(w) for w in x.split(' ')]))"
      ],
      "execution_count": 16,
      "outputs": []
    },
    {
      "cell_type": "code",
      "metadata": {
        "id": "zhMfnoYMOhv0"
      },
      "source": [
        "vectorizer = CountVectorizer(analyzer='word', ngram_range=(2, 2))\n",
        "X2 = vectorizer.fit_transform(vk_df['stem_text'])"
      ],
      "execution_count": 17,
      "outputs": []
    },
    {
      "cell_type": "code",
      "metadata": {
        "id": "6fclqSqhX4TY"
      },
      "source": [
        "X3 = vectorizer.fit_transform(vk_df['hashtags'])"
      ],
      "execution_count": 18,
      "outputs": []
    },
    {
      "cell_type": "code",
      "metadata": {
        "colab": {
          "base_uri": "https://localhost:8080/"
        },
        "id": "_Xy-BFgeSjtd",
        "outputId": "6de657f7-6708-4f8b-a9ac-d21719774b69"
      },
      "source": [
        "X2"
      ],
      "execution_count": 19,
      "outputs": [
        {
          "output_type": "execute_result",
          "data": {
            "text/plain": [
              "<36759x1082341 sparse matrix of type '<class 'numpy.int64'>'\n",
              "\twith 1844505 stored elements in Compressed Sparse Row format>"
            ]
          },
          "metadata": {
            "tags": []
          },
          "execution_count": 19
        }
      ]
    },
    {
      "cell_type": "code",
      "metadata": {
        "colab": {
          "base_uri": "https://localhost:8080/"
        },
        "id": "Dys-BVPlYBvp",
        "outputId": "96038bc9-7c9c-4203-90b5-6560987289be"
      },
      "source": [
        "X3"
      ],
      "execution_count": 20,
      "outputs": [
        {
          "output_type": "execute_result",
          "data": {
            "text/plain": [
              "<36759x17965 sparse matrix of type '<class 'numpy.int64'>'\n",
              "\twith 29604 stored elements in Compressed Sparse Row format>"
            ]
          },
          "metadata": {
            "tags": []
          },
          "execution_count": 20
        }
      ]
    },
    {
      "cell_type": "markdown",
      "metadata": {
        "id": "Jja7ZPzqfdse"
      },
      "source": [
        "Видим,что столбцов образовалось довольно много, используем один из методов уменьшения размерности"
      ]
    },
    {
      "cell_type": "code",
      "metadata": {
        "id": "z6-N1r7WO7Fj"
      },
      "source": [
        "pca = TruncatedSVD(n_components=50, n_iter=7, random_state=42)\n",
        "new_data = pd.DataFrame(pca.fit_transform(X2), columns = [f'col_{i}' for i in range(1,51)])"
      ],
      "execution_count": 21,
      "outputs": []
    },
    {
      "cell_type": "code",
      "metadata": {
        "id": "RwrgKo5xYFpu"
      },
      "source": [
        "pca = TruncatedSVD(n_components=15, n_iter=7, random_state=42)\n",
        "new_hash = pd.DataFrame(pca.fit_transform(X3), columns = [f'col_hash_{i}' for i in range(1,16)])"
      ],
      "execution_count": 22,
      "outputs": []
    },
    {
      "cell_type": "code",
      "metadata": {
        "colab": {
          "base_uri": "https://localhost:8080/"
        },
        "id": "QCDky4uMXBCb",
        "outputId": "108c2fe5-747d-48c3-e62a-6cffb1f9263e"
      },
      "source": [
        "vk_df.columns"
      ],
      "execution_count": 23,
      "outputs": [
        {
          "output_type": "execute_result",
          "data": {
            "text/plain": [
              "Index(['social_type', 'text', 'has_images', 'has_videos', 'url', 'likes',\n",
              "       'comments', 'reposts', 'views', 'is_repost', 'created_date',\n",
              "       'updated_date', 'version', 'author_id', 'id', 'author_subscribers',\n",
              "       'time', 'edit_text', 'hashtags', 'stem_text'],\n",
              "      dtype='object')"
            ]
          },
          "metadata": {
            "tags": []
          },
          "execution_count": 23
        }
      ]
    },
    {
      "cell_type": "code",
      "metadata": {
        "id": "dD35hNIOS8sg"
      },
      "source": [
        "cols = ['has_images', 'has_videos', 'likes', 'comments', 'reposts', 'is_repost', 'version','author_subscribers','time','views']\n",
        "for col in cols:\n",
        "  new_data[col] = vk_df[col].values"
      ],
      "execution_count": 24,
      "outputs": []
    },
    {
      "cell_type": "code",
      "metadata": {
        "id": "urnVZ5aQY42H"
      },
      "source": [
        "for col in new_hash.columns:\n",
        "  new_data[col] = new_hash[col]"
      ],
      "execution_count": 25,
      "outputs": []
    },
    {
      "cell_type": "code",
      "metadata": {
        "id": "qyFVqmwSZ9x-"
      },
      "source": [
        "X = new_data.drop(['views'], axis = 1)\n",
        "y = new_data['views'].values"
      ],
      "execution_count": 26,
      "outputs": []
    },
    {
      "cell_type": "markdown",
      "metadata": {
        "id": "FbknAgrGfpQz"
      },
      "source": [
        "Нормализовываем наши данные для машинного обучения"
      ]
    },
    {
      "cell_type": "code",
      "metadata": {
        "id": "OCzBXVvNZgSb"
      },
      "source": [
        "num_scaler = StandardScaler()\n",
        "cols.remove('views')\n",
        "\n",
        "for col in cols:\n",
        "  X[[col]] = num_scaler.fit_transform(X[[col]])"
      ],
      "execution_count": 27,
      "outputs": []
    },
    {
      "cell_type": "code",
      "metadata": {
        "id": "otUmCFGAaiFD"
      },
      "source": [
        "def get_score(target, name, model, X_train, X_test, y_train, y_test, status):\n",
        "  model.fit(X_train, y_train)\n",
        "  score_train =model.score(X_train, y_train) \n",
        "  score_test = model.score(X_test, y_test)\n",
        "\n",
        "  if status:\n",
        "    df_new = pd.DataFrame(model.feature_importances_, index = X_train.columns, columns = ['importance'])\n",
        "    df_new[df_new['importance']>0].sort_values(by = 'importance').head(15).plot(kind = 'bar', title = f'{name} model and {target} columns')\n",
        "    plt.show()\n",
        "\n",
        "  cross_score = cross_val_score(model, X_test, y_test, cv=5)\n",
        "\n",
        "  return score_train, score_test, cross_score"
      ],
      "execution_count": 28,
      "outputs": []
    },
    {
      "cell_type": "code",
      "metadata": {
        "id": "5KYQaUTubJTw"
      },
      "source": [
        "def get_data(X, y):\n",
        "  X_train, X_test, y_train, y_test = train_test_split(\n",
        "  X, y, test_size=0.33, random_state=42)\n",
        "\n",
        "  return  X_train, X_test, y_train, y_test "
      ],
      "execution_count": 29,
      "outputs": []
    },
    {
      "cell_type": "code",
      "metadata": {
        "id": "MnenYT0xbNg-"
      },
      "source": [
        "mls = {\n",
        "        'GradientBoostingRegressor': GradientBoostingRegressor(random_state=0), \n",
        "        'linear': LinearRegression(), 'RandomForestRegressor':RandomForestRegressor(max_depth=2, random_state=0),\n",
        "        'LassoCV': LassoCV(), 'Ridge': RidgeCV(), 'ElasticNetCV': ElasticNetCV(),\n",
        "       'ExtraTreesRegressor': ExtraTreesRegressor(n_estimators=100, random_state=0)\n",
        "        }"
      ],
      "execution_count": 30,
      "outputs": []
    },
    {
      "cell_type": "markdown",
      "metadata": {
        "id": "exWD5U_xfxMV"
      },
      "source": [
        "Тестируем различные модели для окончательного выбора"
      ]
    },
    {
      "cell_type": "code",
      "metadata": {
        "colab": {
          "base_uri": "https://localhost:8080/",
          "height": 926
        },
        "id": "cO63I4-1bOaS",
        "outputId": "658dd03b-542d-471a-f1f3-5293a22e1b33"
      },
      "source": [
        "dict_results = {}\n",
        "status = False\n",
        "\n",
        "for col in ['views']:\n",
        "  X_train, X_test, y_train, y_test = get_data(X,y)\n",
        "  dict_results[col] = {}\n",
        "  for name, model in mls.items():\n",
        "    if name not in ['linear', 'LassoCV', 'Ridge', 'ElasticNetCV']:\n",
        "      status = True\n",
        "    else:\n",
        "      status = False\n",
        "\n",
        "    results = get_score(col, name, model, X_train,  X_test, y_train, y_test, status)\n",
        "    dict_results[col][name] = {'score_train' : results[0].round(3),'score_test' : results[1].round(3),\n",
        "                               'cross_score': results[2].mean().round(3)}"
      ],
      "execution_count": null,
      "outputs": [
        {
          "output_type": "display_data",
          "data": {
            "image/png": "[encoded data removed]",
            "text/plain": [
              "<Figure size 432x288 with 1 Axes>"
            ]
          },
          "metadata": {
            "tags": [],
            "needs_background": "light"
          }
        },
        {
          "output_type": "display_data",
          "data": {
            "image/png": "[encoded data removed]",
            "text/plain": [
              "<Figure size 432x288 with 1 Axes>"
            ]
          },
          "metadata": {
            "tags": [],
            "needs_background": "light"
          }
        },
        {
          "output_type": "display_data",
          "data": {
            "image/png": "[encoded data removed]",
            "text/plain": [
              "<Figure size 432x288 with 1 Axes>"
            ]
          },
          "metadata": {
            "tags": [],
            "needs_background": "light"
          }
        }
      ]
    },
    {
      "cell_type": "code",
      "metadata": {
        "colab": {
          "base_uri": "https://localhost:8080/"
        },
        "id": "YSvaCcocc1l4",
        "outputId": "906ee4b3-4a60-4a80-faeb-92ec9f421ed9"
      },
      "source": [
        "for k,v in dict_results.items():\n",
        "  print(k)\n",
        "  for ki,vi in v.items():\n",
        "    print(ki, vi)\n",
        "  print('-'*30)"
      ],
      "execution_count": null,
      "outputs": [
        {
          "output_type": "stream",
          "text": [
            "views\n",
            "GradientBoostingRegressor {'score_train': 0.873, 'score_test': 0.531, 'cross_score': 0.486}\n",
            "linear {'score_train': 0.472, 'score_test': 0.478, 'cross_score': 0.187}\n",
            "RandomForestRegressor {'score_train': 0.427, 'score_test': 0.317, 'cross_score': 0.334}\n",
            "LassoCV {'score_train': 0.439, 'score_test': 0.4, 'cross_score': 0.438}\n",
            "Ridge {'score_train': 0.472, 'score_test': 0.483, 'cross_score': 0.404}\n",
            "ElasticNetCV {'score_train': 0.325, 'score_test': 0.319, 'cross_score': 0.377}\n",
            "ExtraTreesRegressor {'score_train': 1.0, 'score_test': 0.54, 'cross_score': 0.624}\n",
            "------------------------------\n"
          ],
          "name": "stdout"
        }
      ]
    },
    {
      "cell_type": "markdown",
      "metadata": {
        "id": "gAvnFuTqdD6f"
      },
      "source": [
        "### Выбираем GradientBoostingRegressor,  LassoCV, ExtraTreesRegressor,RandomForestRegressor\n"
      ]
    },
    {
      "cell_type": "code",
      "metadata": {
        "id": "VGxYMZF6lKPE"
      },
      "source": [
        "def mean_absolute_percentage_error(y_true, y_pred): \n",
        "    return np.mean(np.abs((y_true - y_pred) / y_true)) * 100"
      ],
      "execution_count": 32,
      "outputs": []
    },
    {
      "cell_type": "markdown",
      "metadata": {
        "id": "EoRTmvUCdqRa"
      },
      "source": [
        "### GradientBoostingRegressor"
      ]
    },
    {
      "cell_type": "code",
      "metadata": {
        "colab": {
          "base_uri": "https://localhost:8080/"
        },
        "id": "_dRAtcDUdoQ1",
        "outputId": "43c7abe2-54e7-48f2-de81-4b9aca49f078"
      },
      "source": [
        "X_train, X_test, y_train, y_test = train_test_split(X, y, test_size=0.33, random_state=42, shuffle = True)\n",
        "\n",
        "\n",
        "parameters = {'learning_rate':  [0.1],           #[0.1, 0.3, 0.9],\n",
        "                      'max_depth':  [90],             #[80, 90],\n",
        "                      'max_features':  [3],             #[2, 3],\n",
        "                      'min_samples_leaf': [4] }      #[3, 4, 5]}\n",
        "\n",
        "\n",
        "\n",
        "model1 = GradientBoostingRegressor(random_state= 42)\n",
        "grid = GridSearchCV(model1, parameters,  cv=3, verbose=True,\n",
        "                               n_jobs= -1, scoring = 'r2')\n",
        "grid.fit(X_train, y_train) \n",
        "grid.best_estimator_"
      ],
      "execution_count": 33,
      "outputs": [
        {
          "output_type": "stream",
          "text": [
            "Fitting 3 folds for each of 1 candidates, totalling 3 fits\n"
          ],
          "name": "stdout"
        },
        {
          "output_type": "stream",
          "text": [
            "[Parallel(n_jobs=-1)]: Using backend LokyBackend with 2 concurrent workers.\n",
            "[Parallel(n_jobs=-1)]: Done   3 out of   3 | elapsed:   30.3s finished\n"
          ],
          "name": "stderr"
        },
        {
          "output_type": "execute_result",
          "data": {
            "text/plain": [
              "GradientBoostingRegressor(alpha=0.9, ccp_alpha=0.0, criterion='friedman_mse',\n",
              "                          init=None, learning_rate=0.1, loss='ls', max_depth=90,\n",
              "                          max_features=3, max_leaf_nodes=None,\n",
              "                          min_impurity_decrease=0.0, min_impurity_split=None,\n",
              "                          min_samples_leaf=4, min_samples_split=2,\n",
              "                          min_weight_fraction_leaf=0.0, n_estimators=100,\n",
              "                          n_iter_no_change=None, presort='deprecated',\n",
              "                          random_state=42, subsample=1.0, tol=0.0001,\n",
              "                          validation_fraction=0.1, verbose=0, warm_start=False)"
            ]
          },
          "metadata": {
            "tags": []
          },
          "execution_count": 33
        }
      ]
    },
    {
      "cell_type": "code",
      "metadata": {
        "colab": {
          "base_uri": "https://localhost:8080/",
          "height": 77
        },
        "id": "ZiFjEf_3l607",
        "outputId": "834fd5c1-2cfe-43f5-a812-2dd0613ea18d"
      },
      "source": [
        "grad_boost = pd.DataFrame({\n",
        "    'r2_train': [r2_score(y_train, grid.predict(X_train)).round(6)],\n",
        "    'r2_test': [r2_score(y_test, grid.predict(X_test)).round(6)],\n",
        "    'MAE': [mean_absolute_error(y_test, grid.predict(X_test)).round(6)],\n",
        "    'MSE': [mean_squared_error(y_test, grid.predict(X_test)).round(6)],\n",
        "    'MAPE': [mean_absolute_percentage_error(y_test, grid.predict(X_test)).round(6)]}, index = ['GradientBoostingRegressor'])\n",
        "grad_boost "
      ],
      "execution_count": 35,
      "outputs": [
        {
          "output_type": "execute_result",
          "data": {
            "text/html": [
              "<div>\n",
              "<style scoped>\n",
              "    .dataframe tbody tr th:only-of-type {\n",
              "        vertical-align: middle;\n",
              "    }\n",
              "\n",
              "    .dataframe tbody tr th {\n",
              "        vertical-align: top;\n",
              "    }\n",
              "\n",
              "    .dataframe thead th {\n",
              "        text-align: right;\n",
              "    }\n",
              "</style>\n",
              "<table border=\"1\" class=\"dataframe\">\n",
              "  <thead>\n",
              "    <tr style=\"text-align: right;\">\n",
              "      <th></th>\n",
              "      <th>r2_train</th>\n",
              "      <th>r2_test</th>\n",
              "      <th>MAE</th>\n",
              "      <th>MSE</th>\n",
              "      <th>MAPE</th>\n",
              "    </tr>\n",
              "  </thead>\n",
              "  <tbody>\n",
              "    <tr>\n",
              "      <th>GradientBoostingRegressor</th>\n",
              "      <td>0.996458</td>\n",
              "      <td>0.458517</td>\n",
              "      <td>656.165034</td>\n",
              "      <td>8.235636e+06</td>\n",
              "      <td>inf</td>\n",
              "    </tr>\n",
              "  </tbody>\n",
              "</table>\n",
              "</div>"
            ],
            "text/plain": [
              "                           r2_train   r2_test         MAE           MSE  MAPE\n",
              "GradientBoostingRegressor  0.996458  0.458517  656.165034  8.235636e+06   inf"
            ]
          },
          "metadata": {
            "tags": []
          },
          "execution_count": 35
        }
      ]
    },
    {
      "cell_type": "markdown",
      "metadata": {
        "id": "-noGMZmFeiBf"
      },
      "source": [
        "### LassoCV"
      ]
    },
    {
      "cell_type": "code",
      "metadata": {
        "colab": {
          "base_uri": "https://localhost:8080/"
        },
        "id": "a7kBgMz8ehUd",
        "outputId": "c433a0be-592b-4863-8721-a7388e9b6371"
      },
      "source": [
        "X_train, X_test, y_train, y_test = train_test_split(X, y, test_size=0.33, random_state=42, shuffle = True)\n",
        "\n",
        "\n",
        "parameters = {'n_alphas':  [120],                     #[80, 90,100,110,120]}\n",
        "              'max_iter': [900, 950, 1000]}           # 900\n",
        "\n",
        "\n",
        "model1 = LassoCV(random_state = 42)\n",
        "grid2 = GridSearchCV(model1, parameters,  cv=5, verbose=True,\n",
        "                               n_jobs= -1)\n",
        "grid2.fit(X_train, y_train) \n",
        "grid2.best_estimator_"
      ],
      "execution_count": 36,
      "outputs": [
        {
          "output_type": "stream",
          "text": [
            "Fitting 5 folds for each of 3 candidates, totalling 15 fits\n"
          ],
          "name": "stdout"
        },
        {
          "output_type": "stream",
          "text": [
            "[Parallel(n_jobs=-1)]: Using backend LokyBackend with 2 concurrent workers.\n",
            "[Parallel(n_jobs=-1)]: Done  15 out of  15 | elapsed:    5.5s finished\n"
          ],
          "name": "stderr"
        },
        {
          "output_type": "execute_result",
          "data": {
            "text/plain": [
              "LassoCV(alphas=None, copy_X=True, cv=None, eps=0.001, fit_intercept=True,\n",
              "        max_iter=900, n_alphas=120, n_jobs=None, normalize=False,\n",
              "        positive=False, precompute='auto', random_state=42, selection='cyclic',\n",
              "        tol=0.0001, verbose=False)"
            ]
          },
          "metadata": {
            "tags": []
          },
          "execution_count": 36
        }
      ]
    },
    {
      "cell_type": "code",
      "metadata": {
        "colab": {
          "base_uri": "https://localhost:8080/",
          "height": 0
        },
        "id": "9-AQqn5ZgJpZ",
        "outputId": "6ad3b86d-af62-4270-b850-5053cbfa48c5"
      },
      "source": [
        "grad_lasso = pd.DataFrame({\n",
        "    'r2_train': [r2_score(y_train, grid2.predict(X_train)).round(6)],\n",
        "    'r2_test': [r2_score(y_test, grid2.predict(X_test)).round(6)],\n",
        "    'MAE': [mean_absolute_error(y_test, grid2.predict(X_test)).round(6)],\n",
        "    'MSE': [mean_squared_error(y_test, grid2.predict(X_test)).round(3)],\n",
        "    'MAPE': [mean_absolute_percentage_error(y_test, grid2.predict(X_test)).round(6)]}, index = ['lasso'])\n",
        "grad_lasso"
      ],
      "execution_count": 37,
      "outputs": [
        {
          "output_type": "execute_result",
          "data": {
            "text/html": [
              "<div>\n",
              "<style scoped>\n",
              "    .dataframe tbody tr th:only-of-type {\n",
              "        vertical-align: middle;\n",
              "    }\n",
              "\n",
              "    .dataframe tbody tr th {\n",
              "        vertical-align: top;\n",
              "    }\n",
              "\n",
              "    .dataframe thead th {\n",
              "        text-align: right;\n",
              "    }\n",
              "</style>\n",
              "<table border=\"1\" class=\"dataframe\">\n",
              "  <thead>\n",
              "    <tr style=\"text-align: right;\">\n",
              "      <th></th>\n",
              "      <th>r2_train</th>\n",
              "      <th>r2_test</th>\n",
              "      <th>MAE</th>\n",
              "      <th>MSE</th>\n",
              "      <th>MAPE</th>\n",
              "    </tr>\n",
              "  </thead>\n",
              "  <tbody>\n",
              "    <tr>\n",
              "      <th>lasso</th>\n",
              "      <td>0.437958</td>\n",
              "      <td>0.398834</td>\n",
              "      <td>708.060591</td>\n",
              "      <td>9143372.374</td>\n",
              "      <td>inf</td>\n",
              "    </tr>\n",
              "  </tbody>\n",
              "</table>\n",
              "</div>"
            ],
            "text/plain": [
              "       r2_train   r2_test         MAE          MSE  MAPE\n",
              "lasso  0.437958  0.398834  708.060591  9143372.374   inf"
            ]
          },
          "metadata": {
            "tags": []
          },
          "execution_count": 37
        }
      ]
    },
    {
      "cell_type": "markdown",
      "metadata": {
        "id": "jWBpiUsPgvAy"
      },
      "source": [
        "### RandomForestRegressor"
      ]
    },
    {
      "cell_type": "code",
      "metadata": {
        "colab": {
          "base_uri": "https://localhost:8080/"
        },
        "id": "f_mF2Gb2o-Jh",
        "outputId": "dbdddfbe-a951-4704-d16e-a6bbeb81dfca"
      },
      "source": [
        "X_train, X_test, y_train, y_test = train_test_split(X, y, test_size=0.33, random_state=42, shuffle = True)\n",
        "\n",
        "\n",
        "parameters = {'n_estimators': [150],         #[110,120, 150]\n",
        "              'max_depth': [15]}        #[15, 25, 40]\n",
        "\n",
        "\n",
        "model1 = RandomForestRegressor(random_state = 42)\n",
        "grid3 = GridSearchCV(model1, parameters,  cv=5, verbose=True,\n",
        "                               n_jobs= -1)\n",
        "grid3.fit(X_train, y_train) \n",
        "grid3.best_estimator_"
      ],
      "execution_count": 38,
      "outputs": [
        {
          "output_type": "stream",
          "text": [
            "Fitting 5 folds for each of 1 candidates, totalling 5 fits\n"
          ],
          "name": "stdout"
        },
        {
          "output_type": "stream",
          "text": [
            "[Parallel(n_jobs=-1)]: Using backend LokyBackend with 2 concurrent workers.\n",
            "[Parallel(n_jobs=-1)]: Done   5 out of   5 | elapsed: 10.5min finished\n"
          ],
          "name": "stderr"
        },
        {
          "output_type": "execute_result",
          "data": {
            "text/plain": [
              "RandomForestRegressor(bootstrap=True, ccp_alpha=0.0, criterion='mse',\n",
              "                      max_depth=15, max_features='auto', max_leaf_nodes=None,\n",
              "                      max_samples=None, min_impurity_decrease=0.0,\n",
              "                      min_impurity_split=None, min_samples_leaf=1,\n",
              "                      min_samples_split=2, min_weight_fraction_leaf=0.0,\n",
              "                      n_estimators=150, n_jobs=None, oob_score=False,\n",
              "                      random_state=42, verbose=0, warm_start=False)"
            ]
          },
          "metadata": {
            "tags": []
          },
          "execution_count": 38
        }
      ]
    },
    {
      "cell_type": "code",
      "metadata": {
        "colab": {
          "base_uri": "https://localhost:8080/",
          "height": 77
        },
        "id": "KM21SiBSqBa7",
        "outputId": "98db2cc9-529d-4785-b5bc-afe52fd91ad8"
      },
      "source": [
        "grad_forest = pd.DataFrame({\n",
        "    'r2_train': [r2_score(y_train, grid3.predict(X_train)).round(6)],\n",
        "    'r2_test': [r2_score(y_test, grid3.predict(X_test)).round(6)],\n",
        "    'MAE': [mean_absolute_error(y_test, grid3.predict(X_test)).round(6)],\n",
        "    'MSE': [mean_squared_error(y_test, grid3.predict(X_test)).round(3)],\n",
        "    'MAPE': [mean_absolute_percentage_error(y_test, grid3.predict(X_test)).round(6)]}, index = ['RandomForest'])\n",
        "grad_forest"
      ],
      "execution_count": 39,
      "outputs": [
        {
          "output_type": "execute_result",
          "data": {
            "text/html": [
              "<div>\n",
              "<style scoped>\n",
              "    .dataframe tbody tr th:only-of-type {\n",
              "        vertical-align: middle;\n",
              "    }\n",
              "\n",
              "    .dataframe tbody tr th {\n",
              "        vertical-align: top;\n",
              "    }\n",
              "\n",
              "    .dataframe thead th {\n",
              "        text-align: right;\n",
              "    }\n",
              "</style>\n",
              "<table border=\"1\" class=\"dataframe\">\n",
              "  <thead>\n",
              "    <tr style=\"text-align: right;\">\n",
              "      <th></th>\n",
              "      <th>r2_train</th>\n",
              "      <th>r2_test</th>\n",
              "      <th>MAE</th>\n",
              "      <th>MSE</th>\n",
              "      <th>MAPE</th>\n",
              "    </tr>\n",
              "  </thead>\n",
              "  <tbody>\n",
              "    <tr>\n",
              "      <th>RandomForest</th>\n",
              "      <td>0.923605</td>\n",
              "      <td>0.488989</td>\n",
              "      <td>461.039149</td>\n",
              "      <td>7772168.41</td>\n",
              "      <td>inf</td>\n",
              "    </tr>\n",
              "  </tbody>\n",
              "</table>\n",
              "</div>"
            ],
            "text/plain": [
              "              r2_train   r2_test         MAE         MSE  MAPE\n",
              "RandomForest  0.923605  0.488989  461.039149  7772168.41   inf"
            ]
          },
          "metadata": {
            "tags": []
          },
          "execution_count": 39
        }
      ]
    },
    {
      "cell_type": "markdown",
      "metadata": {
        "id": "1BfFYnL1qAte"
      },
      "source": [
        "### ExtraTreesRegressor"
      ]
    },
    {
      "cell_type": "code",
      "metadata": {
        "colab": {
          "base_uri": "https://localhost:8080/"
        },
        "id": "K-AXECNvqc0A",
        "outputId": "df6d5697-9be9-43c7-f094-fd119319f6cf"
      },
      "source": [
        "X_train, X_test, y_train, y_test = train_test_split(X, y, test_size=0.33, random_state=42, shuffle = True)\n",
        "\n",
        "\n",
        "parameters = {'n_estimators':  [150],           #[110,120, 150, 200],\n",
        "              'max_depth': [7] }           #[20,30]} \n",
        "\n",
        "\n",
        "model1 = ExtraTreesRegressor(random_state = 42)\n",
        "grid4 = GridSearchCV(model1, parameters,  cv=5, verbose=True,\n",
        "                               n_jobs= -1)\n",
        "grid4.fit(X_train, y_train) \n",
        "grid4.best_estimator_"
      ],
      "execution_count": 40,
      "outputs": [
        {
          "output_type": "stream",
          "text": [
            "Fitting 5 folds for each of 1 candidates, totalling 5 fits\n"
          ],
          "name": "stdout"
        },
        {
          "output_type": "stream",
          "text": [
            "[Parallel(n_jobs=-1)]: Using backend LokyBackend with 2 concurrent workers.\n",
            "[Parallel(n_jobs=-1)]: Done   5 out of   5 | elapsed:   27.1s finished\n"
          ],
          "name": "stderr"
        },
        {
          "output_type": "execute_result",
          "data": {
            "text/plain": [
              "ExtraTreesRegressor(bootstrap=False, ccp_alpha=0.0, criterion='mse',\n",
              "                    max_depth=7, max_features='auto', max_leaf_nodes=None,\n",
              "                    max_samples=None, min_impurity_decrease=0.0,\n",
              "                    min_impurity_split=None, min_samples_leaf=1,\n",
              "                    min_samples_split=2, min_weight_fraction_leaf=0.0,\n",
              "                    n_estimators=150, n_jobs=None, oob_score=False,\n",
              "                    random_state=42, verbose=0, warm_start=False)"
            ]
          },
          "metadata": {
            "tags": []
          },
          "execution_count": 40
        }
      ]
    },
    {
      "cell_type": "code",
      "metadata": {
        "colab": {
          "base_uri": "https://localhost:8080/",
          "height": 77
        },
        "id": "sim3BvAEqlF7",
        "outputId": "fe7f27c6-6e8c-4009-9c80-7fa9ef5a2ec2"
      },
      "source": [
        "grad_extra = pd.DataFrame({\n",
        "    'r2_train': [r2_score(y_train, grid4.predict(X_train)).round(6)],\n",
        "    'r2_test': [r2_score(y_test, grid4.predict(X_test)).round(6)],\n",
        "    'MAE': [mean_absolute_error(y_test, grid4.predict(X_test)).round(6)],\n",
        "    'MSE': [mean_squared_error(y_test, grid4.predict(X_test)).round(3)],\n",
        "    'MAPE': [mean_absolute_percentage_error(y_test, grid4.predict(X_test)).round(6)]}, index = ['ExtraTrees'])\n",
        "grad_extra"
      ],
      "execution_count": 41,
      "outputs": [
        {
          "output_type": "execute_result",
          "data": {
            "text/html": [
              "<div>\n",
              "<style scoped>\n",
              "    .dataframe tbody tr th:only-of-type {\n",
              "        vertical-align: middle;\n",
              "    }\n",
              "\n",
              "    .dataframe tbody tr th {\n",
              "        vertical-align: top;\n",
              "    }\n",
              "\n",
              "    .dataframe thead th {\n",
              "        text-align: right;\n",
              "    }\n",
              "</style>\n",
              "<table border=\"1\" class=\"dataframe\">\n",
              "  <thead>\n",
              "    <tr style=\"text-align: right;\">\n",
              "      <th></th>\n",
              "      <th>r2_train</th>\n",
              "      <th>r2_test</th>\n",
              "      <th>MAE</th>\n",
              "      <th>MSE</th>\n",
              "      <th>MAPE</th>\n",
              "    </tr>\n",
              "  </thead>\n",
              "  <tbody>\n",
              "    <tr>\n",
              "      <th>ExtraTrees</th>\n",
              "      <td>0.645742</td>\n",
              "      <td>0.511476</td>\n",
              "      <td>570.163275</td>\n",
              "      <td>7430151.501</td>\n",
              "      <td>inf</td>\n",
              "    </tr>\n",
              "  </tbody>\n",
              "</table>\n",
              "</div>"
            ],
            "text/plain": [
              "            r2_train   r2_test         MAE          MSE  MAPE\n",
              "ExtraTrees  0.645742  0.511476  570.163275  7430151.501   inf"
            ]
          },
          "metadata": {
            "tags": []
          },
          "execution_count": 41
        }
      ]
    },
    {
      "cell_type": "markdown",
      "metadata": {
        "id": "hkzRfnChf7uH"
      },
      "source": [
        "Используем стеккинг моделей для получения лучшего результата наших обученных моделей"
      ]
    },
    {
      "cell_type": "markdown",
      "metadata": {
        "id": "_rXOgIe4uNVc"
      },
      "source": [
        "### Stacking"
      ]
    },
    {
      "cell_type": "code",
      "metadata": {
        "colab": {
          "base_uri": "https://localhost:8080/"
        },
        "id": "Jua6sVMSuQ3V",
        "outputId": "a6bc6180-781e-4ddb-95ca-23e16ffc04fd"
      },
      "source": [
        "estimators = [\n",
        "    ('GradientBoosting', grid.best_estimator_),\n",
        "    ('LassoCV', grid2.best_estimator_),\n",
        "    ('ExtraTrees', grid4.best_estimator_),\n",
        "    ('RandomForest', grid3.best_estimator_)\n",
        "]\n",
        "reg = StackingRegressor(\n",
        "    estimators=estimators)\n",
        "reg.fit(X_train, y_train) "
      ],
      "execution_count": 42,
      "outputs": [
        {
          "output_type": "execute_result",
          "data": {
            "text/plain": [
              "StackingRegressor(cv=None,\n",
              "                  estimators=[('GradientBoosting',\n",
              "                               GradientBoostingRegressor(alpha=0.9,\n",
              "                                                         ccp_alpha=0.0,\n",
              "                                                         criterion='friedman_mse',\n",
              "                                                         init=None,\n",
              "                                                         learning_rate=0.1,\n",
              "                                                         loss='ls',\n",
              "                                                         max_depth=90,\n",
              "                                                         max_features=3,\n",
              "                                                         max_leaf_nodes=None,\n",
              "                                                         min_impurity_decrease=0.0,\n",
              "                                                         min_impurity_split=None,\n",
              "                                                         min_samples_leaf=4,\n",
              "                                                         min_samples_split=2,\n",
              "                                                         min_weight_fraction_leaf=0.0,\n",
              "                                                         n_estimators=...\n",
              "                                                     criterion='mse',\n",
              "                                                     max_depth=15,\n",
              "                                                     max_features='auto',\n",
              "                                                     max_leaf_nodes=None,\n",
              "                                                     max_samples=None,\n",
              "                                                     min_impurity_decrease=0.0,\n",
              "                                                     min_impurity_split=None,\n",
              "                                                     min_samples_leaf=1,\n",
              "                                                     min_samples_split=2,\n",
              "                                                     min_weight_fraction_leaf=0.0,\n",
              "                                                     n_estimators=150,\n",
              "                                                     n_jobs=None,\n",
              "                                                     oob_score=False,\n",
              "                                                     random_state=42, verbose=0,\n",
              "                                                     warm_start=False))],\n",
              "                  final_estimator=None, n_jobs=None, passthrough=False,\n",
              "                  verbose=0)"
            ]
          },
          "metadata": {
            "tags": []
          },
          "execution_count": 42
        }
      ]
    },
    {
      "cell_type": "code",
      "metadata": {
        "colab": {
          "base_uri": "https://localhost:8080/",
          "height": 77
        },
        "id": "IMIANRFB0u70",
        "outputId": "5f4fd092-0260-4c13-b758-ba25205b3dce"
      },
      "source": [
        "new1 = pd.DataFrame({\n",
        "    'r2_train': [r2_score(y_train, reg.predict(X_train)).round(6)],\n",
        "    'r2_test': [r2_score(y_test, reg.predict(X_test)).round(6)],\n",
        "    'MAE': [mean_absolute_error(y_test, reg.predict(X_test)).round(6)],\n",
        "    'MSE': [mean_squared_error(y_test, reg.predict(X_test)).round(3)],\n",
        "    'MAPE': [mean_absolute_percentage_error(y_test, reg.predict(X_test)).round(6)]}, index = ['Stacking'])\n",
        "new1"
      ],
      "execution_count": 43,
      "outputs": [
        {
          "output_type": "execute_result",
          "data": {
            "text/html": [
              "<div>\n",
              "<style scoped>\n",
              "    .dataframe tbody tr th:only-of-type {\n",
              "        vertical-align: middle;\n",
              "    }\n",
              "\n",
              "    .dataframe tbody tr th {\n",
              "        vertical-align: top;\n",
              "    }\n",
              "\n",
              "    .dataframe thead th {\n",
              "        text-align: right;\n",
              "    }\n",
              "</style>\n",
              "<table border=\"1\" class=\"dataframe\">\n",
              "  <thead>\n",
              "    <tr style=\"text-align: right;\">\n",
              "      <th></th>\n",
              "      <th>r2_train</th>\n",
              "      <th>r2_test</th>\n",
              "      <th>MAE</th>\n",
              "      <th>MSE</th>\n",
              "      <th>MAPE</th>\n",
              "    </tr>\n",
              "  </thead>\n",
              "  <tbody>\n",
              "    <tr>\n",
              "      <th>Stacking</th>\n",
              "      <td>0.837606</td>\n",
              "      <td>0.531046</td>\n",
              "      <td>479.734786</td>\n",
              "      <td>7132517.323</td>\n",
              "      <td>inf</td>\n",
              "    </tr>\n",
              "  </tbody>\n",
              "</table>\n",
              "</div>"
            ],
            "text/plain": [
              "          r2_train   r2_test         MAE          MSE  MAPE\n",
              "Stacking  0.837606  0.531046  479.734786  7132517.323   inf"
            ]
          },
          "metadata": {
            "tags": []
          },
          "execution_count": 43
        }
      ]
    },
    {
      "cell_type": "code",
      "metadata": {
        "colab": {
          "base_uri": "https://localhost:8080/",
          "height": 166
        },
        "id": "P5h6-3Eq1p03",
        "outputId": "15e9f134-62a8-43f5-d680-015e329cf4bc"
      },
      "source": [
        "all_vk = pd.concat([grad_boost, grad_lasso, grad_extra, new1])\n",
        "all_vk"
      ],
      "execution_count": 44,
      "outputs": [
        {
          "output_type": "execute_result",
          "data": {
            "text/html": [
              "<div>\n",
              "<style scoped>\n",
              "    .dataframe tbody tr th:only-of-type {\n",
              "        vertical-align: middle;\n",
              "    }\n",
              "\n",
              "    .dataframe tbody tr th {\n",
              "        vertical-align: top;\n",
              "    }\n",
              "\n",
              "    .dataframe thead th {\n",
              "        text-align: right;\n",
              "    }\n",
              "</style>\n",
              "<table border=\"1\" class=\"dataframe\">\n",
              "  <thead>\n",
              "    <tr style=\"text-align: right;\">\n",
              "      <th></th>\n",
              "      <th>r2_train</th>\n",
              "      <th>r2_test</th>\n",
              "      <th>MAE</th>\n",
              "      <th>MSE</th>\n",
              "      <th>MAPE</th>\n",
              "    </tr>\n",
              "  </thead>\n",
              "  <tbody>\n",
              "    <tr>\n",
              "      <th>GradientBoostingRegressor</th>\n",
              "      <td>0.996458</td>\n",
              "      <td>0.458517</td>\n",
              "      <td>656.165034</td>\n",
              "      <td>8.235636e+06</td>\n",
              "      <td>inf</td>\n",
              "    </tr>\n",
              "    <tr>\n",
              "      <th>lasso</th>\n",
              "      <td>0.437958</td>\n",
              "      <td>0.398834</td>\n",
              "      <td>708.060591</td>\n",
              "      <td>9.143372e+06</td>\n",
              "      <td>inf</td>\n",
              "    </tr>\n",
              "    <tr>\n",
              "      <th>ExtraTrees</th>\n",
              "      <td>0.645742</td>\n",
              "      <td>0.511476</td>\n",
              "      <td>570.163275</td>\n",
              "      <td>7.430152e+06</td>\n",
              "      <td>inf</td>\n",
              "    </tr>\n",
              "    <tr>\n",
              "      <th>Stacking</th>\n",
              "      <td>0.837606</td>\n",
              "      <td>0.531046</td>\n",
              "      <td>479.734786</td>\n",
              "      <td>7.132517e+06</td>\n",
              "      <td>inf</td>\n",
              "    </tr>\n",
              "  </tbody>\n",
              "</table>\n",
              "</div>"
            ],
            "text/plain": [
              "                           r2_train   r2_test         MAE           MSE  MAPE\n",
              "GradientBoostingRegressor  0.996458  0.458517  656.165034  8.235636e+06   inf\n",
              "lasso                      0.437958  0.398834  708.060591  9.143372e+06   inf\n",
              "ExtraTrees                 0.645742  0.511476  570.163275  7.430152e+06   inf\n",
              "Stacking                   0.837606  0.531046  479.734786  7.132517e+06   inf"
            ]
          },
          "metadata": {
            "tags": []
          },
          "execution_count": 44
        }
      ]
    },
    {
      "cell_type": "code",
      "metadata": {
        "id": "J1ymZLnaZ62Z"
      },
      "source": [
        "views = pd.DataFrame()\n",
        "for id_post in range(5):\n",
        "  view = []\n",
        "  for day in range(1,11):\n",
        "    X = new_data.drop(['views'], axis = 1)\n",
        "    X.loc[id_post,'time'] += 60*60*24*day\n",
        "    for col in cols:\n",
        "      X[[col]] = num_scaler.fit_transform(X[[col]])\n",
        "    view.append(reg.predict([X.loc[id_post,:]])[0] + y[id_post])\n",
        "  views[f\"{df.loc[:,['author_id']].values[id_post][0]} id\"] = view"
      ],
      "execution_count": 78,
      "outputs": []
    },
    {
      "cell_type": "code",
      "metadata": {
        "colab": {
          "base_uri": "https://localhost:8080/",
          "height": 282
        },
        "id": "qWlZc49ZaHqe",
        "outputId": "56266cc5-5b82-4856-dd4b-52c06e57012e"
      },
      "source": [
        "views.plot(figsize = (10,4))"
      ],
      "execution_count": 80,
      "outputs": [
        {
          "output_type": "execute_result",
          "data": {
            "text/plain": [
              "<matplotlib.axes._subplots.AxesSubplot at 0x7f7635bac390>"
            ]
          },
          "metadata": {
            "tags": []
          },
          "execution_count": 80
        },
        {
          "output_type": "display_data",
          "data": {
            "image/png": "[encoded data removed]",
            "text/plain": [
              "<Figure size 720x288 with 1 Axes>"
            ]
          },
          "metadata": {
            "tags": [],
            "needs_background": "light"
          }
        }
      ]
    },
    {
      "cell_type": "markdown",
      "metadata": {
        "id": "X2Yb-Tl38bKg"
      },
      "source": [
        "## работа с telegram"
      ]
    },
    {
      "cell_type": "markdown",
      "metadata": {
        "id": "aMEZUYoVgK8G"
      },
      "source": [
        "Делаем все тоже самое, только с данными из телеграмма"
      ]
    },
    {
      "cell_type": "markdown",
      "metadata": {
        "id": "TKMIJnZZ97Yx"
      },
      "source": [
        "### обработка данных"
      ]
    },
    {
      "cell_type": "code",
      "metadata": {
        "id": "824IW7_38hf-"
      },
      "source": [
        "tg_df['created_date'] = pd.to_datetime(tg_df['created_date'])\n",
        "tg_df['updated_date'] = pd.to_datetime(tg_df['updated_date'])"
      ],
      "execution_count": 81,
      "outputs": []
    },
    {
      "cell_type": "code",
      "metadata": {
        "id": "FBwP4VFB8vNa"
      },
      "source": [
        "tg_df['time'] = pd.to_timedelta(tg_df['updated_date'] - tg_df['created_date']).apply(lambda x: x.total_seconds())"
      ],
      "execution_count": 82,
      "outputs": []
    },
    {
      "cell_type": "code",
      "metadata": {
        "id": "aL0rML6x8vxS"
      },
      "source": [
        "tg_df['edit_text'] = tg_df['text'].apply(lambda x: BeautifulSoup(str(x), 'lxml').text)\n",
        "tg_df['text'] = tg_df['edit_text'].apply(lambda x: x.split('#')[0])\n",
        "tg_df['hashtags'] =  tg_df['edit_text'].apply(lambda x: ' '.join(re.findall(r'#\\w+', x)).strip()) "
      ],
      "execution_count": 83,
      "outputs": []
    },
    {
      "cell_type": "code",
      "metadata": {
        "id": "rN7sTyJ48zNv"
      },
      "source": [
        "stemmer = SnowballStemmer(\"russian\")\n",
        "tg_df['stem_text'] = tg_df['edit_text'].apply(lambda x: ' '.join([stemmer.stem(w) for w in x.split(' ')]))"
      ],
      "execution_count": 84,
      "outputs": []
    },
    {
      "cell_type": "code",
      "metadata": {
        "id": "9HNkSSHW81Hp"
      },
      "source": [
        "vectorizer = CountVectorizer(analyzer='word', ngram_range=(2, 2))\n",
        "X2 = vectorizer.fit_transform(tg_df['stem_text'])"
      ],
      "execution_count": 85,
      "outputs": []
    },
    {
      "cell_type": "code",
      "metadata": {
        "id": "xXlrbiPY81uf"
      },
      "source": [
        "X3 = vectorizer.fit_transform(tg_df['hashtags'])"
      ],
      "execution_count": 86,
      "outputs": []
    },
    {
      "cell_type": "code",
      "metadata": {
        "id": "Lv-0tQ6g83eh"
      },
      "source": [
        "pca = TruncatedSVD(n_components=50, n_iter=7, random_state=42)\n",
        "new_data = pd.DataFrame(pca.fit_transform(X2), columns = [f'col_{i}' for i in range(1,51)])"
      ],
      "execution_count": 87,
      "outputs": []
    },
    {
      "cell_type": "code",
      "metadata": {
        "id": "ZtoriVI685r-"
      },
      "source": [
        "pca = TruncatedSVD(n_components=15, n_iter=7, random_state=42)\n",
        "new_hash = pd.DataFrame(pca.fit_transform(X3), columns = [f'col_hash_{i}' for i in range(1,16)])"
      ],
      "execution_count": 88,
      "outputs": []
    },
    {
      "cell_type": "code",
      "metadata": {
        "id": "GxRqb8w289lC"
      },
      "source": [
        "cols = ['has_images', 'has_videos', 'version','author_subscribers','time','views']\n",
        "for col in cols:\n",
        "  new_data[col] = tg_df[col].values"
      ],
      "execution_count": 89,
      "outputs": []
    },
    {
      "cell_type": "code",
      "metadata": {
        "id": "BlrOT0_O8_FD"
      },
      "source": [
        "for col in new_hash.columns:\n",
        "  new_data[col] = new_hash[col]"
      ],
      "execution_count": 90,
      "outputs": []
    },
    {
      "cell_type": "code",
      "metadata": {
        "id": "wKIq5RVx9Akv"
      },
      "source": [
        "X = new_data.drop(['views'], axis = 1)\n",
        "y = new_data['views'].values"
      ],
      "execution_count": 91,
      "outputs": []
    },
    {
      "cell_type": "code",
      "metadata": {
        "id": "j8tL85T19Er7"
      },
      "source": [
        "num_scaler = StandardScaler()\n",
        "cols.remove('views')\n",
        "\n",
        "for col in cols:\n",
        "  X[[col]] = num_scaler.fit_transform(X[[col]])"
      ],
      "execution_count": 92,
      "outputs": []
    },
    {
      "cell_type": "code",
      "metadata": {
        "id": "xI7uo-7p9GqL"
      },
      "source": [
        "def mean_absolute_percentage_error(y_true, y_pred): \n",
        "    return np.mean(np.abs((y_true - y_pred) / y_true)) * 100"
      ],
      "execution_count": 93,
      "outputs": []
    },
    {
      "cell_type": "code",
      "metadata": {
        "colab": {
          "base_uri": "https://localhost:8080/",
          "height": 929
        },
        "id": "tjTsUxEy9Mny",
        "outputId": "45b36fa8-31f1-4441-f017-6c1365710da7"
      },
      "source": [
        "dict_results = {}\n",
        "status = False\n",
        "\n",
        "for col in ['views']:\n",
        "  X_train, X_test, y_train, y_test = get_data(X,y)\n",
        "  dict_results[col] = {}\n",
        "  for name, model in mls.items():\n",
        "    if name not in ['linear', 'LassoCV', 'Ridge', 'ElasticNetCV']:\n",
        "      status = True\n",
        "    else:\n",
        "      status = False\n",
        "\n",
        "    results = get_score(col, name, model, X_train,  X_test, y_train, y_test, status)\n",
        "    dict_results[col][name] = {'score_train' : results[0].round(3),'score_test' : results[1].round(3),\n",
        "                               'cross_score': results[2].mean().round(3)}"
      ],
      "execution_count": 94,
      "outputs": [
        {
          "output_type": "display_data",
          "data": {
            "image/png": "[encoded data removed]",
            "text/plain": [
              "<Figure size 432x288 with 1 Axes>"
            ]
          },
          "metadata": {
            "tags": [],
            "needs_background": "light"
          }
        },
        {
          "output_type": "display_data",
          "data": {
            "image/png": "[encoded data removed]",
            "text/plain": [
              "<Figure size 432x288 with 1 Axes>"
            ]
          },
          "metadata": {
            "tags": [],
            "needs_background": "light"
          }
        },
        {
          "output_type": "display_data",
          "data": {
            "image/png": "[encoded data removed]",
            "text/plain": [
              "<Figure size 432x288 with 1 Axes>"
            ]
          },
          "metadata": {
            "tags": [],
            "needs_background": "light"
          }
        }
      ]
    },
    {
      "cell_type": "code",
      "metadata": {
        "colab": {
          "base_uri": "https://localhost:8080/"
        },
        "id": "_BRpSvjR9oP-",
        "outputId": "3c4bfcdf-1c35-448f-e327-19ba88b4bdd3"
      },
      "source": [
        "for k,v in dict_results.items():\n",
        "  print(k)\n",
        "  for ki,vi in v.items():\n",
        "    print(ki, vi)\n",
        "  print('-'*30)"
      ],
      "execution_count": 95,
      "outputs": [
        {
          "output_type": "stream",
          "text": [
            "views\n",
            "GradientBoostingRegressor {'score_train': 0.963, 'score_test': 0.783, 'cross_score': 0.086}\n",
            "linear {'score_train': 0.4, 'score_test': -940.446, 'cross_score': -5122.194}\n",
            "RandomForestRegressor {'score_train': 0.79, 'score_test': 0.692, 'cross_score': 0.384}\n",
            "LassoCV {'score_train': 0.39, 'score_test': 0.319, 'cross_score': 0.364}\n",
            "Ridge {'score_train': 0.4, 'score_test': 0.289, 'cross_score': 0.343}\n",
            "ElasticNetCV {'score_train': 0.149, 'score_test': 0.14, 'cross_score': 0.175}\n",
            "ExtraTreesRegressor {'score_train': 1.0, 'score_test': 0.836, 'cross_score': 0.41}\n",
            "------------------------------\n"
          ],
          "name": "stdout"
        }
      ]
    },
    {
      "cell_type": "markdown",
      "metadata": {
        "id": "h9nJXUn6-C-f"
      },
      "source": [
        "### Выбираем GradientBoostingRegressor, RandomForestRegressor, LassoCV"
      ]
    },
    {
      "cell_type": "markdown",
      "metadata": {
        "id": "DvNWSqBI-LFH"
      },
      "source": [
        "### GradientBoostingRegressor"
      ]
    },
    {
      "cell_type": "code",
      "metadata": {
        "colab": {
          "base_uri": "https://localhost:8080/"
        },
        "id": "uV-V1tST-Tso",
        "outputId": "20d61b53-6e7f-4f18-e93d-1d2da9d62028"
      },
      "source": [
        "X_train, X_test, y_train, y_test = train_test_split(X, y, test_size=0.33, random_state=42, shuffle = True)\n",
        "\n",
        "\n",
        "parameters = {'learning_rate':  [0.1],           #[0.1,0.3,0.5,0.7,0.9],\n",
        "                      'max_depth':  [20],             #[20,30,40,50],\n",
        "                      'max_features':  [2],             #[2, 3],\n",
        "                      'min_samples_leaf': [5] }      #[3, 4, 5]}\n",
        "\n",
        "\n",
        "\n",
        "model1 = GradientBoostingRegressor(random_state= 42)\n",
        "grid = GridSearchCV(model1, parameters,  cv=3, verbose=True,\n",
        "                               n_jobs= -1, scoring = 'r2')\n",
        "grid.fit(X_train, y_train) \n",
        "grid.best_estimator_"
      ],
      "execution_count": 96,
      "outputs": [
        {
          "output_type": "stream",
          "text": [
            "Fitting 3 folds for each of 1 candidates, totalling 3 fits\n"
          ],
          "name": "stdout"
        },
        {
          "output_type": "stream",
          "text": [
            "[Parallel(n_jobs=-1)]: Using backend LokyBackend with 2 concurrent workers.\n",
            "[Parallel(n_jobs=-1)]: Done   3 out of   3 | elapsed:    4.4s finished\n"
          ],
          "name": "stderr"
        },
        {
          "output_type": "execute_result",
          "data": {
            "text/plain": [
              "GradientBoostingRegressor(alpha=0.9, ccp_alpha=0.0, criterion='friedman_mse',\n",
              "                          init=None, learning_rate=0.1, loss='ls', max_depth=20,\n",
              "                          max_features=2, max_leaf_nodes=None,\n",
              "                          min_impurity_decrease=0.0, min_impurity_split=None,\n",
              "                          min_samples_leaf=5, min_samples_split=2,\n",
              "                          min_weight_fraction_leaf=0.0, n_estimators=100,\n",
              "                          n_iter_no_change=None, presort='deprecated',\n",
              "                          random_state=42, subsample=1.0, tol=0.0001,\n",
              "                          validation_fraction=0.1, verbose=0, warm_start=False)"
            ]
          },
          "metadata": {
            "tags": []
          },
          "execution_count": 96
        }
      ]
    },
    {
      "cell_type": "code",
      "metadata": {
        "colab": {
          "base_uri": "https://localhost:8080/",
          "height": 0
        },
        "id": "Ru_KYOGb-ZQf",
        "outputId": "dc9cf7d4-eeb3-4d45-cdf0-94778cd5cde2"
      },
      "source": [
        "grad_boost = pd.DataFrame({\n",
        "    'r2_train': [r2_score(y_train, grid.predict(X_train)).round(6)],\n",
        "    'r2_test': [r2_score(y_test, grid.predict(X_test)).round(6)],\n",
        "    'MAE': [mean_absolute_error(y_test, grid.predict(X_test)).round(6)],\n",
        "    'MSE': [mean_squared_error(y_test, grid.predict(X_test)).round(6)],\n",
        "    'MAPE': [mean_absolute_percentage_error(y_test, grid.predict(X_test)).round(6)]}, index = ['GradientBoostingRegressor'])\n",
        "grad_boost "
      ],
      "execution_count": 97,
      "outputs": [
        {
          "output_type": "execute_result",
          "data": {
            "text/html": [
              "<div>\n",
              "<style scoped>\n",
              "    .dataframe tbody tr th:only-of-type {\n",
              "        vertical-align: middle;\n",
              "    }\n",
              "\n",
              "    .dataframe tbody tr th {\n",
              "        vertical-align: top;\n",
              "    }\n",
              "\n",
              "    .dataframe thead th {\n",
              "        text-align: right;\n",
              "    }\n",
              "</style>\n",
              "<table border=\"1\" class=\"dataframe\">\n",
              "  <thead>\n",
              "    <tr style=\"text-align: right;\">\n",
              "      <th></th>\n",
              "      <th>r2_train</th>\n",
              "      <th>r2_test</th>\n",
              "      <th>MAE</th>\n",
              "      <th>MSE</th>\n",
              "      <th>MAPE</th>\n",
              "    </tr>\n",
              "  </thead>\n",
              "  <tbody>\n",
              "    <tr>\n",
              "      <th>GradientBoostingRegressor</th>\n",
              "      <td>0.986652</td>\n",
              "      <td>0.51652</td>\n",
              "      <td>1024.516972</td>\n",
              "      <td>1.783509e+07</td>\n",
              "      <td>inf</td>\n",
              "    </tr>\n",
              "  </tbody>\n",
              "</table>\n",
              "</div>"
            ],
            "text/plain": [
              "                           r2_train  r2_test          MAE           MSE  MAPE\n",
              "GradientBoostingRegressor  0.986652  0.51652  1024.516972  1.783509e+07   inf"
            ]
          },
          "metadata": {
            "tags": []
          },
          "execution_count": 97
        }
      ]
    },
    {
      "cell_type": "markdown",
      "metadata": {
        "id": "Oqmpa5OP-c93"
      },
      "source": [
        "### RandomForestRegressor"
      ]
    },
    {
      "cell_type": "code",
      "metadata": {
        "colab": {
          "base_uri": "https://localhost:8080/"
        },
        "id": "qAwxXe1D-hec",
        "outputId": "a39632fb-97b2-410b-935f-75a90b43092d"
      },
      "source": [
        "X_train, X_test, y_train, y_test = train_test_split(X, y, test_size=0.33, random_state=42, shuffle = True)\n",
        "\n",
        "\n",
        "parameters = {'n_estimators': [200],         #[110,120, 150]\n",
        "              'max_depth': [15]}        #[15, 25, 40]\n",
        "\n",
        "\n",
        "model1 = RandomForestRegressor(random_state = 42)\n",
        "grid3 = GridSearchCV(model1, parameters,  cv=5, verbose=True,\n",
        "                               n_jobs= -1)\n",
        "grid3.fit(X_train, y_train) \n",
        "grid3.best_estimator_"
      ],
      "execution_count": 98,
      "outputs": [
        {
          "output_type": "stream",
          "text": [
            "Fitting 5 folds for each of 1 candidates, totalling 5 fits\n"
          ],
          "name": "stdout"
        },
        {
          "output_type": "stream",
          "text": [
            "[Parallel(n_jobs=-1)]: Using backend LokyBackend with 2 concurrent workers.\n",
            "[Parallel(n_jobs=-1)]: Done   5 out of   5 | elapsed:  3.0min finished\n"
          ],
          "name": "stderr"
        },
        {
          "output_type": "execute_result",
          "data": {
            "text/plain": [
              "RandomForestRegressor(bootstrap=True, ccp_alpha=0.0, criterion='mse',\n",
              "                      max_depth=15, max_features='auto', max_leaf_nodes=None,\n",
              "                      max_samples=None, min_impurity_decrease=0.0,\n",
              "                      min_impurity_split=None, min_samples_leaf=1,\n",
              "                      min_samples_split=2, min_weight_fraction_leaf=0.0,\n",
              "                      n_estimators=200, n_jobs=None, oob_score=False,\n",
              "                      random_state=42, verbose=0, warm_start=False)"
            ]
          },
          "metadata": {
            "tags": []
          },
          "execution_count": 98
        }
      ]
    },
    {
      "cell_type": "code",
      "metadata": {
        "colab": {
          "base_uri": "https://localhost:8080/",
          "height": 0
        },
        "id": "hoMBJmxJ-0Jb",
        "outputId": "a34a8672-13d7-483e-8371-c763d21a5e01"
      },
      "source": [
        "grad_forest = pd.DataFrame({\n",
        "    'r2_train': [r2_score(y_train, grid3.predict(X_train)).round(6)],\n",
        "    'r2_test': [r2_score(y_test, grid3.predict(X_test)).round(6)],\n",
        "    'MAE': [mean_absolute_error(y_test, grid3.predict(X_test)).round(6)],\n",
        "    'MSE': [mean_squared_error(y_test, grid3.predict(X_test)).round(3)],\n",
        "    'MAPE': [mean_absolute_percentage_error(y_test, grid3.predict(X_test)).round(6)]}, index = ['RandomForest'])\n",
        "grad_forest"
      ],
      "execution_count": 99,
      "outputs": [
        {
          "output_type": "execute_result",
          "data": {
            "text/html": [
              "<div>\n",
              "<style scoped>\n",
              "    .dataframe tbody tr th:only-of-type {\n",
              "        vertical-align: middle;\n",
              "    }\n",
              "\n",
              "    .dataframe tbody tr th {\n",
              "        vertical-align: top;\n",
              "    }\n",
              "\n",
              "    .dataframe thead th {\n",
              "        text-align: right;\n",
              "    }\n",
              "</style>\n",
              "<table border=\"1\" class=\"dataframe\">\n",
              "  <thead>\n",
              "    <tr style=\"text-align: right;\">\n",
              "      <th></th>\n",
              "      <th>r2_train</th>\n",
              "      <th>r2_test</th>\n",
              "      <th>MAE</th>\n",
              "      <th>MSE</th>\n",
              "      <th>MAPE</th>\n",
              "    </tr>\n",
              "  </thead>\n",
              "  <tbody>\n",
              "    <tr>\n",
              "      <th>RandomForest</th>\n",
              "      <td>0.958886</td>\n",
              "      <td>0.749432</td>\n",
              "      <td>524.649962</td>\n",
              "      <td>9243225.387</td>\n",
              "      <td>inf</td>\n",
              "    </tr>\n",
              "  </tbody>\n",
              "</table>\n",
              "</div>"
            ],
            "text/plain": [
              "              r2_train   r2_test         MAE          MSE  MAPE\n",
              "RandomForest  0.958886  0.749432  524.649962  9243225.387   inf"
            ]
          },
          "metadata": {
            "tags": []
          },
          "execution_count": 99
        }
      ]
    },
    {
      "cell_type": "markdown",
      "metadata": {
        "id": "odymGXoy_Bqj"
      },
      "source": [
        "### LassoCV"
      ]
    },
    {
      "cell_type": "code",
      "metadata": {
        "colab": {
          "base_uri": "https://localhost:8080/"
        },
        "id": "Y1_0oRxP_FyZ",
        "outputId": "1f2c32c0-8ed5-4aa4-f840-a59299ac39a0"
      },
      "source": [
        "X_train, X_test, y_train, y_test = train_test_split(X, y, test_size=0.33, random_state=42, shuffle = True)\n",
        "\n",
        "\n",
        "parameters = {'n_alphas':  [120,130,140],                     #[80, 90,100,110,120]}\n",
        "              'max_iter': [900, 950, 1000]}           # 900\n",
        "\n",
        "\n",
        "model1 = LassoCV(random_state = 42)\n",
        "grid2 = GridSearchCV(model1, parameters,  cv=5, verbose=True,\n",
        "                               n_jobs= -1)\n",
        "grid2.fit(X_train, y_train) \n",
        "grid2.best_estimator_"
      ],
      "execution_count": 100,
      "outputs": [
        {
          "output_type": "stream",
          "text": [
            "Fitting 5 folds for each of 9 candidates, totalling 45 fits\n"
          ],
          "name": "stdout"
        },
        {
          "output_type": "stream",
          "text": [
            "[Parallel(n_jobs=-1)]: Using backend LokyBackend with 2 concurrent workers.\n",
            "[Parallel(n_jobs=-1)]: Done  45 out of  45 | elapsed:    6.4s finished\n"
          ],
          "name": "stderr"
        },
        {
          "output_type": "execute_result",
          "data": {
            "text/plain": [
              "LassoCV(alphas=None, copy_X=True, cv=None, eps=0.001, fit_intercept=True,\n",
              "        max_iter=900, n_alphas=120, n_jobs=None, normalize=False,\n",
              "        positive=False, precompute='auto', random_state=42, selection='cyclic',\n",
              "        tol=0.0001, verbose=False)"
            ]
          },
          "metadata": {
            "tags": []
          },
          "execution_count": 100
        }
      ]
    },
    {
      "cell_type": "code",
      "metadata": {
        "colab": {
          "base_uri": "https://localhost:8080/",
          "height": 0
        },
        "id": "6dbEgTYS_IBC",
        "outputId": "5e2ad957-be17-4668-ffcb-55835b46d84e"
      },
      "source": [
        "grad_lasso = pd.DataFrame({\n",
        "    'r2_train': [r2_score(y_train, grid2.predict(X_train)).round(6)],\n",
        "    'r2_test': [r2_score(y_test, grid2.predict(X_test)).round(6)],\n",
        "    'MAE': [mean_absolute_error(y_test, grid2.predict(X_test)).round(6)],\n",
        "    'MSE': [mean_squared_error(y_test, grid2.predict(X_test)).round(3)],\n",
        "    'MAPE': [mean_absolute_percentage_error(y_test, grid2.predict(X_test)).round(6)]}, index = ['lasso'])\n",
        "grad_lasso"
      ],
      "execution_count": 101,
      "outputs": [
        {
          "output_type": "execute_result",
          "data": {
            "text/html": [
              "<div>\n",
              "<style scoped>\n",
              "    .dataframe tbody tr th:only-of-type {\n",
              "        vertical-align: middle;\n",
              "    }\n",
              "\n",
              "    .dataframe tbody tr th {\n",
              "        vertical-align: top;\n",
              "    }\n",
              "\n",
              "    .dataframe thead th {\n",
              "        text-align: right;\n",
              "    }\n",
              "</style>\n",
              "<table border=\"1\" class=\"dataframe\">\n",
              "  <thead>\n",
              "    <tr style=\"text-align: right;\">\n",
              "      <th></th>\n",
              "      <th>r2_train</th>\n",
              "      <th>r2_test</th>\n",
              "      <th>MAE</th>\n",
              "      <th>MSE</th>\n",
              "      <th>MAPE</th>\n",
              "    </tr>\n",
              "  </thead>\n",
              "  <tbody>\n",
              "    <tr>\n",
              "      <th>lasso</th>\n",
              "      <td>0.390495</td>\n",
              "      <td>0.31897</td>\n",
              "      <td>939.713649</td>\n",
              "      <td>2.512255e+07</td>\n",
              "      <td>inf</td>\n",
              "    </tr>\n",
              "  </tbody>\n",
              "</table>\n",
              "</div>"
            ],
            "text/plain": [
              "       r2_train  r2_test         MAE           MSE  MAPE\n",
              "lasso  0.390495  0.31897  939.713649  2.512255e+07   inf"
            ]
          },
          "metadata": {
            "tags": []
          },
          "execution_count": 101
        }
      ]
    },
    {
      "cell_type": "markdown",
      "metadata": {
        "id": "zKZmTNp6_MTX"
      },
      "source": [
        "### Stacking"
      ]
    },
    {
      "cell_type": "code",
      "metadata": {
        "colab": {
          "base_uri": "https://localhost:8080/"
        },
        "id": "De8_H9lf_QrQ",
        "outputId": "35733187-8cc8-4eda-bf99-066ae2ef24f6"
      },
      "source": [
        "estimators = [\n",
        "    ('GradientBoosting', grid.best_estimator_),\n",
        "    ('LassoCV', grid2.best_estimator_),\n",
        "    ('RandomForest', grid3.best_estimator_)\n",
        "]\n",
        "reg_tg = StackingRegressor(\n",
        "    estimators=estimators)\n",
        "reg_tg.fit(X_train, y_train) "
      ],
      "execution_count": 102,
      "outputs": [
        {
          "output_type": "execute_result",
          "data": {
            "text/plain": [
              "StackingRegressor(cv=None,\n",
              "                  estimators=[('GradientBoosting',\n",
              "                               GradientBoostingRegressor(alpha=0.9,\n",
              "                                                         ccp_alpha=0.0,\n",
              "                                                         criterion='friedman_mse',\n",
              "                                                         init=None,\n",
              "                                                         learning_rate=0.1,\n",
              "                                                         loss='ls',\n",
              "                                                         max_depth=20,\n",
              "                                                         max_features=2,\n",
              "                                                         max_leaf_nodes=None,\n",
              "                                                         min_impurity_decrease=0.0,\n",
              "                                                         min_impurity_split=None,\n",
              "                                                         min_samples_leaf=5,\n",
              "                                                         min_samples_split=2,\n",
              "                                                         min_weight_fraction_leaf=0.0,\n",
              "                                                         n_estimators=...\n",
              "                                                     criterion='mse',\n",
              "                                                     max_depth=15,\n",
              "                                                     max_features='auto',\n",
              "                                                     max_leaf_nodes=None,\n",
              "                                                     max_samples=None,\n",
              "                                                     min_impurity_decrease=0.0,\n",
              "                                                     min_impurity_split=None,\n",
              "                                                     min_samples_leaf=1,\n",
              "                                                     min_samples_split=2,\n",
              "                                                     min_weight_fraction_leaf=0.0,\n",
              "                                                     n_estimators=200,\n",
              "                                                     n_jobs=None,\n",
              "                                                     oob_score=False,\n",
              "                                                     random_state=42, verbose=0,\n",
              "                                                     warm_start=False))],\n",
              "                  final_estimator=None, n_jobs=None, passthrough=False,\n",
              "                  verbose=0)"
            ]
          },
          "metadata": {
            "tags": []
          },
          "execution_count": 102
        }
      ]
    },
    {
      "cell_type": "code",
      "metadata": {
        "colab": {
          "base_uri": "https://localhost:8080/",
          "height": 77
        },
        "id": "hT6dZc4rAKrt",
        "outputId": "fdb21e8c-0f5a-47f5-d884-8cfb6faab3f8"
      },
      "source": [
        "new1 = pd.DataFrame({\n",
        "    'r2_train': [r2_score(y_train, reg_tg.predict(X_train)).round(6)],\n",
        "    'r2_test': [r2_score(y_test, reg_tg.predict(X_test)).round(6)],\n",
        "    'MAE': [mean_absolute_error(y_test, reg_tg.predict(X_test)).round(6)],\n",
        "    'MSE': [mean_squared_error(y_test, reg_tg.predict(X_test)).round(6)],\n",
        "    'MAPE': [mean_absolute_percentage_error(y_test, reg_tg.predict(X_test)).round(6)]}, index = ['Stacking'])\n",
        "new1"
      ],
      "execution_count": 103,
      "outputs": [
        {
          "output_type": "execute_result",
          "data": {
            "text/html": [
              "<div>\n",
              "<style scoped>\n",
              "    .dataframe tbody tr th:only-of-type {\n",
              "        vertical-align: middle;\n",
              "    }\n",
              "\n",
              "    .dataframe tbody tr th {\n",
              "        vertical-align: top;\n",
              "    }\n",
              "\n",
              "    .dataframe thead th {\n",
              "        text-align: right;\n",
              "    }\n",
              "</style>\n",
              "<table border=\"1\" class=\"dataframe\">\n",
              "  <thead>\n",
              "    <tr style=\"text-align: right;\">\n",
              "      <th></th>\n",
              "      <th>r2_train</th>\n",
              "      <th>r2_test</th>\n",
              "      <th>MAE</th>\n",
              "      <th>MSE</th>\n",
              "      <th>MAPE</th>\n",
              "    </tr>\n",
              "  </thead>\n",
              "  <tbody>\n",
              "    <tr>\n",
              "      <th>Stacking</th>\n",
              "      <td>0.946203</td>\n",
              "      <td>0.750605</td>\n",
              "      <td>570.597301</td>\n",
              "      <td>9.199952e+06</td>\n",
              "      <td>inf</td>\n",
              "    </tr>\n",
              "  </tbody>\n",
              "</table>\n",
              "</div>"
            ],
            "text/plain": [
              "          r2_train   r2_test         MAE           MSE  MAPE\n",
              "Stacking  0.946203  0.750605  570.597301  9.199952e+06   inf"
            ]
          },
          "metadata": {
            "tags": []
          },
          "execution_count": 103
        }
      ]
    },
    {
      "cell_type": "code",
      "metadata": {
        "colab": {
          "base_uri": "https://localhost:8080/",
          "height": 166
        },
        "id": "qcReTSLCBKxg",
        "outputId": "50dfcad1-da3e-4aaa-d1c5-3297c3f03b7e"
      },
      "source": [
        "all_tg = pd.concat([grad_boost, grad_lasso, grad_forest, new1])\n",
        "all_tg"
      ],
      "execution_count": 104,
      "outputs": [
        {
          "output_type": "execute_result",
          "data": {
            "text/html": [
              "<div>\n",
              "<style scoped>\n",
              "    .dataframe tbody tr th:only-of-type {\n",
              "        vertical-align: middle;\n",
              "    }\n",
              "\n",
              "    .dataframe tbody tr th {\n",
              "        vertical-align: top;\n",
              "    }\n",
              "\n",
              "    .dataframe thead th {\n",
              "        text-align: right;\n",
              "    }\n",
              "</style>\n",
              "<table border=\"1\" class=\"dataframe\">\n",
              "  <thead>\n",
              "    <tr style=\"text-align: right;\">\n",
              "      <th></th>\n",
              "      <th>r2_train</th>\n",
              "      <th>r2_test</th>\n",
              "      <th>MAE</th>\n",
              "      <th>MSE</th>\n",
              "      <th>MAPE</th>\n",
              "    </tr>\n",
              "  </thead>\n",
              "  <tbody>\n",
              "    <tr>\n",
              "      <th>GradientBoostingRegressor</th>\n",
              "      <td>0.986652</td>\n",
              "      <td>0.516520</td>\n",
              "      <td>1024.516972</td>\n",
              "      <td>1.783509e+07</td>\n",
              "      <td>inf</td>\n",
              "    </tr>\n",
              "    <tr>\n",
              "      <th>lasso</th>\n",
              "      <td>0.390495</td>\n",
              "      <td>0.318970</td>\n",
              "      <td>939.713649</td>\n",
              "      <td>2.512255e+07</td>\n",
              "      <td>inf</td>\n",
              "    </tr>\n",
              "    <tr>\n",
              "      <th>RandomForest</th>\n",
              "      <td>0.958886</td>\n",
              "      <td>0.749432</td>\n",
              "      <td>524.649962</td>\n",
              "      <td>9.243225e+06</td>\n",
              "      <td>inf</td>\n",
              "    </tr>\n",
              "    <tr>\n",
              "      <th>Stacking</th>\n",
              "      <td>0.946203</td>\n",
              "      <td>0.750605</td>\n",
              "      <td>570.597301</td>\n",
              "      <td>9.199952e+06</td>\n",
              "      <td>inf</td>\n",
              "    </tr>\n",
              "  </tbody>\n",
              "</table>\n",
              "</div>"
            ],
            "text/plain": [
              "                           r2_train   r2_test          MAE           MSE  MAPE\n",
              "GradientBoostingRegressor  0.986652  0.516520  1024.516972  1.783509e+07   inf\n",
              "lasso                      0.390495  0.318970   939.713649  2.512255e+07   inf\n",
              "RandomForest               0.958886  0.749432   524.649962  9.243225e+06   inf\n",
              "Stacking                   0.946203  0.750605   570.597301  9.199952e+06   inf"
            ]
          },
          "metadata": {
            "tags": []
          },
          "execution_count": 104
        }
      ]
    },
    {
      "cell_type": "code",
      "metadata": {
        "colab": {
          "base_uri": "https://localhost:8080/",
          "height": 324
        },
        "id": "NSUeYMreDmZZ",
        "outputId": "5e8884ea-36bd-4233-85dd-42a15307d3b9"
      },
      "source": [
        "pred_df=pd.DataFrame({'true':y_test,'pred':reg_tg.predict(X_test)})\n",
        "plt.figure(figsize=(15,5))\n",
        "plt.scatter(range(pred_df.shape[0]),pred_df['true'], label = 'y_true', alpha = 0.6)\n",
        "plt.scatter(range(pred_df.shape[0]),pred_df['pred'], label = 'y_pred', alpha = 0.9)\n",
        "plt.ylim(0, 200)\n",
        "plt.legend()\n",
        "plt.show()"
      ],
      "execution_count": 105,
      "outputs": [
        {
          "output_type": "display_data",
          "data": {
            "image/png": "[encoded data removed]",
            "text/plain": [
              "<Figure size 1080x360 with 1 Axes>"
            ]
          },
          "metadata": {
            "tags": [],
            "needs_background": "light"
          }
        }
      ]
    },
    {
      "cell_type": "code",
      "metadata": {
        "id": "Z0kkT4SxFnYy"
      },
      "source": [
        "X = new_data.drop(['views'], axis = 1)\n",
        "y = new_data['views'].values"
      ],
      "execution_count": 106,
      "outputs": []
    },
    {
      "cell_type": "code",
      "metadata": {
        "id": "8uaVp9p9H6Hh"
      },
      "source": [
        "views = pd.DataFrame()\n",
        "for id_post in range(5):\n",
        "  view = []\n",
        "  for day in range(1,11):\n",
        "    X = new_data.drop(['views'], axis = 1)\n",
        "    X.loc[id_post,'time'] += 60*60*24*day\n",
        "    for col in cols:\n",
        "      X[[col]] = num_scaler.fit_transform(X[[col]])\n",
        "    view.append(reg_tg.predict([X.loc[id_post,:]])[0] + y[id_post])\n",
        "  views[f\"{tg_df.loc[:,['author_id']].values[id_post][0]} id\"] = view"
      ],
      "execution_count": 111,
      "outputs": []
    },
    {
      "cell_type": "code",
      "metadata": {
        "id": "Js67K1OqI1Um",
        "colab": {
          "base_uri": "https://localhost:8080/",
          "height": 282
        },
        "outputId": "68d7b9f7-b279-490d-84b4-f7fdf593021d"
      },
      "source": [
        "views.plot(figsize = (10,4))"
      ],
      "execution_count": 112,
      "outputs": [
        {
          "output_type": "execute_result",
          "data": {
            "text/plain": [
              "<matplotlib.axes._subplots.AxesSubplot at 0x7f762e9e0d90>"
            ]
          },
          "metadata": {
            "tags": []
          },
          "execution_count": 112
        },
        {
          "output_type": "display_data",
          "data": {
            "image/png": "[encoded data removed]",
            "text/plain": [
              "<Figure size 720x288 with 1 Axes>"
            ]
          },
          "metadata": {
            "tags": [],
            "needs_background": "light"
          }
        }
      ]
    },
    {
      "cell_type": "markdown",
      "metadata": {
        "id": "m0oPGEXUMwfr"
      },
      "source": [
        ""
      ]
    },
    {
      "cell_type": "markdown",
      "metadata": {
        "id": "5UBnLfMfCN5Q"
      },
      "source": [
        "## работа с одноклассниками"
      ]
    },
    {
      "cell_type": "code",
      "metadata": {
        "id": "oDyv5BAayQLZ"
      },
      "source": [
        "df = pd.read_csv('datav.02.csv')\n",
        "od_df = df[df['social_type'] == 'odnoklassniki']"
      ],
      "execution_count": 274,
      "outputs": []
    },
    {
      "cell_type": "code",
      "metadata": {
        "colab": {
          "base_uri": "https://localhost:8080/"
        },
        "id": "rFLUjEF_iLuW",
        "outputId": "b9295d3b-1640-409c-cad8-3c616a7f4583"
      },
      "source": [
        "od_df.info()"
      ],
      "execution_count": 275,
      "outputs": [
        {
          "output_type": "stream",
          "text": [
            "<class 'pandas.core.frame.DataFrame'>\n",
            "Int64Index: 17042 entries, 29928 to 58425\n",
            "Data columns (total 17 columns):\n",
            " #   Column              Non-Null Count  Dtype \n",
            "---  ------              --------------  ----- \n",
            " 0   Unnamed: 0          17042 non-null  int64 \n",
            " 1   social_type         17042 non-null  object\n",
            " 2   text                16894 non-null  object\n",
            " 3   has_images          17042 non-null  int64 \n",
            " 4   has_videos          17042 non-null  int64 \n",
            " 5   url                 17042 non-null  object\n",
            " 6   likes               17042 non-null  int64 \n",
            " 7   comments            17042 non-null  int64 \n",
            " 8   reposts             17042 non-null  int64 \n",
            " 9   views               17042 non-null  int64 \n",
            " 10  is_repost           17042 non-null  int64 \n",
            " 11  created_date        17042 non-null  object\n",
            " 12  updated_date        17042 non-null  object\n",
            " 13  version             17042 non-null  int64 \n",
            " 14  author_id           17042 non-null  int64 \n",
            " 15  id                  17042 non-null  object\n",
            " 16  author_subscribers  17042 non-null  int64 \n",
            "dtypes: int64(11), object(6)\n",
            "memory usage: 2.3+ MB\n"
          ],
          "name": "stdout"
        }
      ]
    },
    {
      "cell_type": "code",
      "metadata": {
        "id": "YgtR2jwzjnyE"
      },
      "source": [
        "def get_time(i):\n",
        "  try:\n",
        "    o = od_df['updated_date'].iloc[i,]\n",
        "    o = datetime.datetime.strptime(o, '%Y-%m-%d %H:%M:%S')\n",
        "    k = (o - pd.to_datetime(od_df['created_date'].iloc[i,])).total_seconds()\n",
        "    return k\n",
        "  except:\n",
        "    k = pd.Timedelta('12 days 23:14:26').total_seconds()\n",
        "    return k\n"
      ],
      "execution_count": 276,
      "outputs": []
    },
    {
      "cell_type": "code",
      "metadata": {
        "id": "1cVaJoJ6ly_7"
      },
      "source": [
        "od_df['time'] = [abs(get_time(i)) for i in range(od_df.shape[0])]"
      ],
      "execution_count": 277,
      "outputs": []
    },
    {
      "cell_type": "code",
      "metadata": {
        "id": "N1clf4VvsOvO"
      },
      "source": [
        "od_df['edit_text'] = od_df['text'].apply(lambda x: BeautifulSoup(str(x), 'lxml').text)\n",
        "od_df['text'] = od_df['edit_text'].apply(lambda x: x.split('#')[0])\n",
        "od_df['hashtags'] =  od_df['edit_text'].apply(lambda x: ' '.join(re.findall(r'#\\w+', x)).strip()) "
      ],
      "execution_count": 278,
      "outputs": []
    },
    {
      "cell_type": "code",
      "metadata": {
        "id": "xUOVqG83jI03"
      },
      "source": [
        "stemmer = SnowballStemmer(\"russian\")\n",
        "od_df['stem_text'] = od_df['edit_text'].apply(lambda x: ' '.join([stemmer.stem(w) for w in x.split(' ')]))"
      ],
      "execution_count": 279,
      "outputs": []
    },
    {
      "cell_type": "code",
      "metadata": {
        "id": "8FdqSJCRikH6"
      },
      "source": [
        "vectorizer = CountVectorizer(analyzer='word', ngram_range=(2, 2))\n",
        "X2 = vectorizer.fit_transform(od_df['stem_text'])"
      ],
      "execution_count": 280,
      "outputs": []
    },
    {
      "cell_type": "code",
      "metadata": {
        "id": "fdWSVR0ax1Ie"
      },
      "source": [
        "X3 = vectorizer.fit_transform(od_df['hashtags'])"
      ],
      "execution_count": 281,
      "outputs": []
    },
    {
      "cell_type": "code",
      "metadata": {
        "id": "4OfbQg4cwVl-"
      },
      "source": [
        "pca = TruncatedSVD(n_components=5, n_iter=7, random_state=42)\n",
        "new_data = pd.DataFrame(pca.fit_transform(X2), columns = [f'col_{i}' for i in range(1,6)])"
      ],
      "execution_count": 283,
      "outputs": []
    },
    {
      "cell_type": "code",
      "metadata": {
        "id": "6xoz9WmCwX_h"
      },
      "source": [
        "pca = TruncatedSVD(n_components=3, n_iter=7, random_state=42)\n",
        "new_hash = pd.DataFrame(pca.fit_transform(X3), columns = [f'col_hash_{i}' for i in range(1,4)])"
      ],
      "execution_count": 284,
      "outputs": []
    },
    {
      "cell_type": "code",
      "metadata": {
        "colab": {
          "base_uri": "https://localhost:8080/",
          "height": 231
        },
        "id": "hOFnABJLwlKT",
        "outputId": "847d93c8-6358-4bf4-f686-ebe3a9274023"
      },
      "source": [
        "od_df.head(1)"
      ],
      "execution_count": 267,
      "outputs": [
        {
          "output_type": "execute_result",
          "data": {
            "text/html": [
              "<div>\n",
              "<style scoped>\n",
              "    .dataframe tbody tr th:only-of-type {\n",
              "        vertical-align: middle;\n",
              "    }\n",
              "\n",
              "    .dataframe tbody tr th {\n",
              "        vertical-align: top;\n",
              "    }\n",
              "\n",
              "    .dataframe thead th {\n",
              "        text-align: right;\n",
              "    }\n",
              "</style>\n",
              "<table border=\"1\" class=\"dataframe\">\n",
              "  <thead>\n",
              "    <tr style=\"text-align: right;\">\n",
              "      <th></th>\n",
              "      <th>Unnamed: 0</th>\n",
              "      <th>social_type</th>\n",
              "      <th>text</th>\n",
              "      <th>has_images</th>\n",
              "      <th>has_videos</th>\n",
              "      <th>url</th>\n",
              "      <th>likes</th>\n",
              "      <th>comments</th>\n",
              "      <th>reposts</th>\n",
              "      <th>views</th>\n",
              "      <th>is_repost</th>\n",
              "      <th>created_date</th>\n",
              "      <th>updated_date</th>\n",
              "      <th>version</th>\n",
              "      <th>author_id</th>\n",
              "      <th>id</th>\n",
              "      <th>author_subscribers</th>\n",
              "      <th>time</th>\n",
              "      <th>edit_text</th>\n",
              "      <th>hashtags</th>\n",
              "      <th>stem_text</th>\n",
              "    </tr>\n",
              "  </thead>\n",
              "  <tbody>\n",
              "    <tr>\n",
              "      <th>29928</th>\n",
              "      <td>63595</td>\n",
              "      <td>odnoklassniki</td>\n",
              "      <td>МРОТ должен быть не меньше 50 тысяч рублей, и...</td>\n",
              "      <td>1</td>\n",
              "      <td>0</td>\n",
              "      <td>https://ok.ru/group/54891722506250/topic/15306...</td>\n",
              "      <td>0</td>\n",
              "      <td>0</td>\n",
              "      <td>1</td>\n",
              "      <td>-1</td>\n",
              "      <td>0</td>\n",
              "      <td>2021-04-07 09:15:00</td>\n",
              "      <td>2021-04-08 15:57:38</td>\n",
              "      <td>2</td>\n",
              "      <td>54891722506250</td>\n",
              "      <td>group/54891722506250/topic/153069889063690</td>\n",
              "      <td>8782</td>\n",
              "      <td>110558.0</td>\n",
              "      <td>МРОТ должен быть не меньше 50 тысяч рублей, и...</td>\n",
              "      <td>#экспрессгазета #политика #МРОТ</td>\n",
              "      <td>мрот долж быт не меньш 50 тысяч рублей, ил о ...</td>\n",
              "    </tr>\n",
              "  </tbody>\n",
              "</table>\n",
              "</div>"
            ],
            "text/plain": [
              "       Unnamed: 0  ...                                          stem_text\n",
              "29928       63595  ...   мрот долж быт не меньш 50 тысяч рублей, ил о ...\n",
              "\n",
              "[1 rows x 21 columns]"
            ]
          },
          "metadata": {
            "tags": []
          },
          "execution_count": 267
        }
      ]
    },
    {
      "cell_type": "code",
      "metadata": {
        "id": "RlnbSOqgwjaz"
      },
      "source": [
        "cols = ['has_images', 'has_videos', 'likes', 'comments', 'version', 'reposts', 'is_repost', 'version', 'author_subscribers','time']\n",
        "for col in cols:\n",
        "  new_data[col] = od_df[col].values"
      ],
      "execution_count": 285,
      "outputs": []
    },
    {
      "cell_type": "code",
      "metadata": {
        "id": "c1wyr3XRxE4r"
      },
      "source": [
        "for col in new_hash.columns:\n",
        "  new_data[col] = new_hash[col]"
      ],
      "execution_count": 286,
      "outputs": []
    },
    {
      "cell_type": "code",
      "metadata": {
        "id": "zdllcfHKiomC"
      },
      "source": [
        "for col in cols:\n",
        "  new_data[[col]] = num_scaler.fit_transform(new_data[[col]])"
      ],
      "execution_count": 287,
      "outputs": []
    },
    {
      "cell_type": "code",
      "metadata": {
        "colab": {
          "base_uri": "https://localhost:8080/",
          "height": 422
        },
        "id": "7x8huc4BxqmN",
        "outputId": "89561b51-4513-4640-e142-385b230c6122"
      },
      "source": [
        "new_data"
      ],
      "execution_count": 288,
      "outputs": [
        {
          "output_type": "execute_result",
          "data": {
            "text/html": [
              "<div>\n",
              "<style scoped>\n",
              "    .dataframe tbody tr th:only-of-type {\n",
              "        vertical-align: middle;\n",
              "    }\n",
              "\n",
              "    .dataframe tbody tr th {\n",
              "        vertical-align: top;\n",
              "    }\n",
              "\n",
              "    .dataframe thead th {\n",
              "        text-align: right;\n",
              "    }\n",
              "</style>\n",
              "<table border=\"1\" class=\"dataframe\">\n",
              "  <thead>\n",
              "    <tr style=\"text-align: right;\">\n",
              "      <th></th>\n",
              "      <th>col_1</th>\n",
              "      <th>col_2</th>\n",
              "      <th>col_3</th>\n",
              "      <th>col_4</th>\n",
              "      <th>col_5</th>\n",
              "      <th>has_images</th>\n",
              "      <th>has_videos</th>\n",
              "      <th>likes</th>\n",
              "      <th>comments</th>\n",
              "      <th>version</th>\n",
              "      <th>reposts</th>\n",
              "      <th>is_repost</th>\n",
              "      <th>author_subscribers</th>\n",
              "      <th>time</th>\n",
              "      <th>col_hash_1</th>\n",
              "      <th>col_hash_2</th>\n",
              "      <th>col_hash_3</th>\n",
              "    </tr>\n",
              "  </thead>\n",
              "  <tbody>\n",
              "    <tr>\n",
              "      <th>0</th>\n",
              "      <td>0.016027</td>\n",
              "      <td>0.019245</td>\n",
              "      <td>0.009126</td>\n",
              "      <td>0.042111</td>\n",
              "      <td>0.020157</td>\n",
              "      <td>0.374076</td>\n",
              "      <td>0.0</td>\n",
              "      <td>-0.059804</td>\n",
              "      <td>-0.077</td>\n",
              "      <td>-0.727103</td>\n",
              "      <td>-0.037595</td>\n",
              "      <td>0.0</td>\n",
              "      <td>-0.255526</td>\n",
              "      <td>-1.133466</td>\n",
              "      <td>4.591731e-16</td>\n",
              "      <td>-2.554371e-15</td>\n",
              "      <td>1.086856e-14</td>\n",
              "    </tr>\n",
              "    <tr>\n",
              "      <th>1</th>\n",
              "      <td>0.002057</td>\n",
              "      <td>0.002600</td>\n",
              "      <td>0.000657</td>\n",
              "      <td>0.004516</td>\n",
              "      <td>0.005462</td>\n",
              "      <td>0.374076</td>\n",
              "      <td>0.0</td>\n",
              "      <td>-0.059804</td>\n",
              "      <td>-0.077</td>\n",
              "      <td>-0.727103</td>\n",
              "      <td>-0.093085</td>\n",
              "      <td>0.0</td>\n",
              "      <td>-0.255526</td>\n",
              "      <td>-1.131184</td>\n",
              "      <td>-5.745397e-04</td>\n",
              "      <td>4.717361e-04</td>\n",
              "      <td>-7.836801e-05</td>\n",
              "    </tr>\n",
              "    <tr>\n",
              "      <th>2</th>\n",
              "      <td>0.001047</td>\n",
              "      <td>0.000795</td>\n",
              "      <td>0.000211</td>\n",
              "      <td>0.001350</td>\n",
              "      <td>0.000861</td>\n",
              "      <td>0.374076</td>\n",
              "      <td>0.0</td>\n",
              "      <td>-0.054637</td>\n",
              "      <td>-0.077</td>\n",
              "      <td>-0.727103</td>\n",
              "      <td>-0.037595</td>\n",
              "      <td>0.0</td>\n",
              "      <td>-0.255526</td>\n",
              "      <td>-1.338562</td>\n",
              "      <td>-5.745397e-04</td>\n",
              "      <td>4.717361e-04</td>\n",
              "      <td>-7.836801e-05</td>\n",
              "    </tr>\n",
              "    <tr>\n",
              "      <th>3</th>\n",
              "      <td>0.069157</td>\n",
              "      <td>0.006990</td>\n",
              "      <td>0.000734</td>\n",
              "      <td>0.005903</td>\n",
              "      <td>0.014523</td>\n",
              "      <td>0.374076</td>\n",
              "      <td>0.0</td>\n",
              "      <td>-0.059804</td>\n",
              "      <td>-0.077</td>\n",
              "      <td>-0.727103</td>\n",
              "      <td>-0.093085</td>\n",
              "      <td>0.0</td>\n",
              "      <td>-0.255526</td>\n",
              "      <td>-1.332970</td>\n",
              "      <td>-5.745397e-04</td>\n",
              "      <td>4.717361e-04</td>\n",
              "      <td>-7.836801e-05</td>\n",
              "    </tr>\n",
              "    <tr>\n",
              "      <th>4</th>\n",
              "      <td>0.000302</td>\n",
              "      <td>0.000469</td>\n",
              "      <td>0.000143</td>\n",
              "      <td>0.000966</td>\n",
              "      <td>0.000406</td>\n",
              "      <td>0.374076</td>\n",
              "      <td>0.0</td>\n",
              "      <td>-0.059804</td>\n",
              "      <td>-0.077</td>\n",
              "      <td>-0.727103</td>\n",
              "      <td>-0.037595</td>\n",
              "      <td>0.0</td>\n",
              "      <td>-0.255526</td>\n",
              "      <td>-1.332741</td>\n",
              "      <td>-1.722559e-17</td>\n",
              "      <td>2.741637e-18</td>\n",
              "      <td>1.428276e-17</td>\n",
              "    </tr>\n",
              "    <tr>\n",
              "      <th>...</th>\n",
              "      <td>...</td>\n",
              "      <td>...</td>\n",
              "      <td>...</td>\n",
              "      <td>...</td>\n",
              "      <td>...</td>\n",
              "      <td>...</td>\n",
              "      <td>...</td>\n",
              "      <td>...</td>\n",
              "      <td>...</td>\n",
              "      <td>...</td>\n",
              "      <td>...</td>\n",
              "      <td>...</td>\n",
              "      <td>...</td>\n",
              "      <td>...</td>\n",
              "      <td>...</td>\n",
              "      <td>...</td>\n",
              "      <td>...</td>\n",
              "    </tr>\n",
              "    <tr>\n",
              "      <th>17037</th>\n",
              "      <td>0.151380</td>\n",
              "      <td>0.220881</td>\n",
              "      <td>0.070096</td>\n",
              "      <td>0.298628</td>\n",
              "      <td>0.081902</td>\n",
              "      <td>0.374076</td>\n",
              "      <td>0.0</td>\n",
              "      <td>-0.057220</td>\n",
              "      <td>-0.077</td>\n",
              "      <td>3.144323</td>\n",
              "      <td>-0.037595</td>\n",
              "      <td>0.0</td>\n",
              "      <td>-0.325902</td>\n",
              "      <td>0.787495</td>\n",
              "      <td>-0.000000e+00</td>\n",
              "      <td>-0.000000e+00</td>\n",
              "      <td>-0.000000e+00</td>\n",
              "    </tr>\n",
              "    <tr>\n",
              "      <th>17038</th>\n",
              "      <td>0.051685</td>\n",
              "      <td>0.086457</td>\n",
              "      <td>0.040698</td>\n",
              "      <td>0.157312</td>\n",
              "      <td>0.005771</td>\n",
              "      <td>0.374076</td>\n",
              "      <td>0.0</td>\n",
              "      <td>-0.049470</td>\n",
              "      <td>-0.077</td>\n",
              "      <td>2.880363</td>\n",
              "      <td>-0.037595</td>\n",
              "      <td>0.0</td>\n",
              "      <td>-0.308633</td>\n",
              "      <td>0.787495</td>\n",
              "      <td>-0.000000e+00</td>\n",
              "      <td>-0.000000e+00</td>\n",
              "      <td>-0.000000e+00</td>\n",
              "    </tr>\n",
              "    <tr>\n",
              "      <th>17039</th>\n",
              "      <td>0.000144</td>\n",
              "      <td>0.000112</td>\n",
              "      <td>0.000108</td>\n",
              "      <td>0.000501</td>\n",
              "      <td>-0.000123</td>\n",
              "      <td>-2.673251</td>\n",
              "      <td>0.0</td>\n",
              "      <td>-0.054637</td>\n",
              "      <td>-0.077</td>\n",
              "      <td>2.792376</td>\n",
              "      <td>-0.093085</td>\n",
              "      <td>0.0</td>\n",
              "      <td>-0.305384</td>\n",
              "      <td>0.787495</td>\n",
              "      <td>5.804780e-15</td>\n",
              "      <td>-3.973643e-15</td>\n",
              "      <td>1.741624e-14</td>\n",
              "    </tr>\n",
              "    <tr>\n",
              "      <th>17040</th>\n",
              "      <td>0.021184</td>\n",
              "      <td>0.021610</td>\n",
              "      <td>0.009332</td>\n",
              "      <td>0.050402</td>\n",
              "      <td>0.025022</td>\n",
              "      <td>0.374076</td>\n",
              "      <td>0.0</td>\n",
              "      <td>-0.059804</td>\n",
              "      <td>-0.077</td>\n",
              "      <td>2.880363</td>\n",
              "      <td>-0.093085</td>\n",
              "      <td>0.0</td>\n",
              "      <td>-0.327800</td>\n",
              "      <td>0.787495</td>\n",
              "      <td>9.983659e-18</td>\n",
              "      <td>-3.463358e-17</td>\n",
              "      <td>7.638079e-17</td>\n",
              "    </tr>\n",
              "    <tr>\n",
              "      <th>17041</th>\n",
              "      <td>0.017058</td>\n",
              "      <td>0.016558</td>\n",
              "      <td>0.007237</td>\n",
              "      <td>0.033177</td>\n",
              "      <td>0.036006</td>\n",
              "      <td>0.374076</td>\n",
              "      <td>0.0</td>\n",
              "      <td>-0.059804</td>\n",
              "      <td>-0.077</td>\n",
              "      <td>2.880363</td>\n",
              "      <td>-0.093085</td>\n",
              "      <td>0.0</td>\n",
              "      <td>-0.327800</td>\n",
              "      <td>0.787495</td>\n",
              "      <td>-0.000000e+00</td>\n",
              "      <td>-0.000000e+00</td>\n",
              "      <td>-0.000000e+00</td>\n",
              "    </tr>\n",
              "  </tbody>\n",
              "</table>\n",
              "<p>17042 rows × 17 columns</p>\n",
              "</div>"
            ],
            "text/plain": [
              "          col_1     col_2     col_3  ...    col_hash_1    col_hash_2    col_hash_3\n",
              "0      0.016027  0.019245  0.009126  ...  4.591731e-16 -2.554371e-15  1.086856e-14\n",
              "1      0.002057  0.002600  0.000657  ... -5.745397e-04  4.717361e-04 -7.836801e-05\n",
              "2      0.001047  0.000795  0.000211  ... -5.745397e-04  4.717361e-04 -7.836801e-05\n",
              "3      0.069157  0.006990  0.000734  ... -5.745397e-04  4.717361e-04 -7.836801e-05\n",
              "4      0.000302  0.000469  0.000143  ... -1.722559e-17  2.741637e-18  1.428276e-17\n",
              "...         ...       ...       ...  ...           ...           ...           ...\n",
              "17037  0.151380  0.220881  0.070096  ... -0.000000e+00 -0.000000e+00 -0.000000e+00\n",
              "17038  0.051685  0.086457  0.040698  ... -0.000000e+00 -0.000000e+00 -0.000000e+00\n",
              "17039  0.000144  0.000112  0.000108  ...  5.804780e-15 -3.973643e-15  1.741624e-14\n",
              "17040  0.021184  0.021610  0.009332  ...  9.983659e-18 -3.463358e-17  7.638079e-17\n",
              "17041  0.017058  0.016558  0.007237  ... -0.000000e+00 -0.000000e+00 -0.000000e+00\n",
              "\n",
              "[17042 rows x 17 columns]"
            ]
          },
          "metadata": {
            "tags": []
          },
          "execution_count": 288
        }
      ]
    },
    {
      "cell_type": "code",
      "metadata": {
        "id": "-wIbO9bVhbnY"
      },
      "source": [
        "link = linkage(new_data, 'ward', 'euclidean')"
      ],
      "execution_count": 289,
      "outputs": []
    },
    {
      "cell_type": "code",
      "metadata": {
        "colab": {
          "base_uri": "https://localhost:8080/",
          "height": 527
        },
        "id": "3DUY7GV54RXI",
        "outputId": "2e32d08e-3493-411f-95f7-d0d9561406b2"
      },
      "source": [
        "dist = link[-50:, 2]\n",
        "dist_rev = dist[::-1]\n",
        "idxs = range(1, len(dist) + 1)\n",
        "\n",
        "fig, ax = plt.subplots()\n",
        "fig.set_size_inches(11.7, 8.27)\n",
        "plt.plot(idxs, dist_rev, marker='o')\n",
        "plt.title('Distance between merged clusters')\n",
        "plt.xlabel('Step')\n",
        "plt.ylabel('Distance')\n",
        "\n",
        "plt.show()"
      ],
      "execution_count": 291,
      "outputs": [
        {
          "output_type": "display_data",
          "data": {
            "image/png": "[encoded data removed]",
            "text/plain": [
              "<Figure size 842.4x595.44 with 1 Axes>"
            ]
          },
          "metadata": {
            "tags": [],
            "needs_background": "light"
          }
        }
      ]
    },
    {
      "cell_type": "code",
      "metadata": {
        "id": "Z5R74pfH5U0c"
      },
      "source": [
        "od_df['cluster'] = fcluster(link, 8, criterion='maxclust')"
      ],
      "execution_count": 303,
      "outputs": []
    },
    {
      "cell_type": "code",
      "metadata": {
        "colab": {
          "base_uri": "https://localhost:8080/",
          "height": 314
        },
        "id": "2SUQAmEA5bYX",
        "outputId": "ff388d68-1262-4811-fc3c-6578fe665113"
      },
      "source": [
        "info = od_df.groupby('cluster').mean()[cols]\n",
        "info['time'] = info['time']/60/60\n",
        "info"
      ],
      "execution_count": 308,
      "outputs": [
        {
          "output_type": "execute_result",
          "data": {
            "text/html": [
              "<div>\n",
              "<style scoped>\n",
              "    .dataframe tbody tr th:only-of-type {\n",
              "        vertical-align: middle;\n",
              "    }\n",
              "\n",
              "    .dataframe tbody tr th {\n",
              "        vertical-align: top;\n",
              "    }\n",
              "\n",
              "    .dataframe thead th {\n",
              "        text-align: right;\n",
              "    }\n",
              "</style>\n",
              "<table border=\"1\" class=\"dataframe\">\n",
              "  <thead>\n",
              "    <tr style=\"text-align: right;\">\n",
              "      <th></th>\n",
              "      <th>has_images</th>\n",
              "      <th>has_videos</th>\n",
              "      <th>likes</th>\n",
              "      <th>comments</th>\n",
              "      <th>version</th>\n",
              "      <th>reposts</th>\n",
              "      <th>is_repost</th>\n",
              "      <th>version</th>\n",
              "      <th>author_subscribers</th>\n",
              "      <th>time</th>\n",
              "    </tr>\n",
              "    <tr>\n",
              "      <th>cluster</th>\n",
              "      <th></th>\n",
              "      <th></th>\n",
              "      <th></th>\n",
              "      <th></th>\n",
              "      <th></th>\n",
              "      <th></th>\n",
              "      <th></th>\n",
              "      <th></th>\n",
              "      <th></th>\n",
              "      <th></th>\n",
              "    </tr>\n",
              "  </thead>\n",
              "  <tbody>\n",
              "    <tr>\n",
              "      <th>1</th>\n",
              "      <td>0.500000</td>\n",
              "      <td>0.0</td>\n",
              "      <td>3098.500000</td>\n",
              "      <td>1520.000000</td>\n",
              "      <td>8.000000</td>\n",
              "      <td>308.750000</td>\n",
              "      <td>0.0</td>\n",
              "      <td>8.000000</td>\n",
              "      <td>756174.000000</td>\n",
              "      <td>311.240556</td>\n",
              "    </tr>\n",
              "    <tr>\n",
              "      <th>2</th>\n",
              "      <td>1.000000</td>\n",
              "      <td>0.0</td>\n",
              "      <td>18699.600000</td>\n",
              "      <td>327.200000</td>\n",
              "      <td>6.800000</td>\n",
              "      <td>736.800000</td>\n",
              "      <td>0.0</td>\n",
              "      <td>6.800000</td>\n",
              "      <td>812233.000000</td>\n",
              "      <td>311.240556</td>\n",
              "    </tr>\n",
              "    <tr>\n",
              "      <th>3</th>\n",
              "      <td>1.000000</td>\n",
              "      <td>0.0</td>\n",
              "      <td>1.935164</td>\n",
              "      <td>0.264992</td>\n",
              "      <td>2.322040</td>\n",
              "      <td>0.313474</td>\n",
              "      <td>0.0</td>\n",
              "      <td>2.322040</td>\n",
              "      <td>16065.303738</td>\n",
              "      <td>11.313132</td>\n",
              "    </tr>\n",
              "    <tr>\n",
              "      <th>4</th>\n",
              "      <td>0.687500</td>\n",
              "      <td>0.0</td>\n",
              "      <td>5176.375000</td>\n",
              "      <td>113.500000</td>\n",
              "      <td>5.000000</td>\n",
              "      <td>281.000000</td>\n",
              "      <td>0.0</td>\n",
              "      <td>5.000000</td>\n",
              "      <td>486785.000000</td>\n",
              "      <td>217.604497</td>\n",
              "    </tr>\n",
              "    <tr>\n",
              "      <th>5</th>\n",
              "      <td>0.929524</td>\n",
              "      <td>0.0</td>\n",
              "      <td>121.407619</td>\n",
              "      <td>21.869524</td>\n",
              "      <td>3.992381</td>\n",
              "      <td>8.252381</td>\n",
              "      <td>0.0</td>\n",
              "      <td>3.992381</td>\n",
              "      <td>365895.854286</td>\n",
              "      <td>89.538879</td>\n",
              "    </tr>\n",
              "    <tr>\n",
              "      <th>6</th>\n",
              "      <td>0.000000</td>\n",
              "      <td>0.0</td>\n",
              "      <td>8.505221</td>\n",
              "      <td>0.794630</td>\n",
              "      <td>12.040776</td>\n",
              "      <td>1.027350</td>\n",
              "      <td>0.0</td>\n",
              "      <td>12.040776</td>\n",
              "      <td>32623.694679</td>\n",
              "      <td>219.599293</td>\n",
              "    </tr>\n",
              "    <tr>\n",
              "      <th>7</th>\n",
              "      <td>1.000000</td>\n",
              "      <td>0.0</td>\n",
              "      <td>6.946498</td>\n",
              "      <td>0.439321</td>\n",
              "      <td>32.787734</td>\n",
              "      <td>0.940844</td>\n",
              "      <td>0.0</td>\n",
              "      <td>32.787734</td>\n",
              "      <td>10363.453241</td>\n",
              "      <td>311.240556</td>\n",
              "    </tr>\n",
              "    <tr>\n",
              "      <th>8</th>\n",
              "      <td>1.000000</td>\n",
              "      <td>0.0</td>\n",
              "      <td>5.412667</td>\n",
              "      <td>0.601135</td>\n",
              "      <td>9.056586</td>\n",
              "      <td>0.715994</td>\n",
              "      <td>0.0</td>\n",
              "      <td>9.056586</td>\n",
              "      <td>13499.986965</td>\n",
              "      <td>311.106429</td>\n",
              "    </tr>\n",
              "  </tbody>\n",
              "</table>\n",
              "</div>"
            ],
            "text/plain": [
              "         has_images  has_videos  ...  author_subscribers        time\n",
              "cluster                          ...                                \n",
              "1          0.500000         0.0  ...       756174.000000  311.240556\n",
              "2          1.000000         0.0  ...       812233.000000  311.240556\n",
              "3          1.000000         0.0  ...        16065.303738   11.313132\n",
              "4          0.687500         0.0  ...       486785.000000  217.604497\n",
              "5          0.929524         0.0  ...       365895.854286   89.538879\n",
              "6          0.000000         0.0  ...        32623.694679  219.599293\n",
              "7          1.000000         0.0  ...        10363.453241  311.240556\n",
              "8          1.000000         0.0  ...        13499.986965  311.106429\n",
              "\n",
              "[8 rows x 10 columns]"
            ]
          },
          "metadata": {
            "tags": []
          },
          "execution_count": 308
        }
      ]
    },
    {
      "cell_type": "code",
      "metadata": {
        "id": "rlxkc52u9KMf"
      },
      "source": [
        ""
      ],
      "execution_count": null,
      "outputs": []
    },
    {
      "cell_type": "code",
      "metadata": {
        "id": "HJTqME-p7LfN"
      },
      "source": [
        ""
      ],
      "execution_count": null,
      "outputs": []
    },
    {
      "cell_type": "code",
      "metadata": {
        "colab": {
          "base_uri": "https://localhost:8080/",
          "height": 334
        },
        "id": "P6a5Mdvg61Z2",
        "outputId": "3d490539-573e-4f04-ce79-7bcffd7a6102"
      },
      "source": [
        "info['k1'] = 100*(info['likes'] + info['comments'])/info['author_subscribers']\n",
        "info['k2'] = (info['likes'])/info['time']\n",
        "\n",
        "info.sort_values(by='k1')"
      ],
      "execution_count": 319,
      "outputs": [
        {
          "output_type": "execute_result",
          "data": {
            "text/html": [
              "<div>\n",
              "<style scoped>\n",
              "    .dataframe tbody tr th:only-of-type {\n",
              "        vertical-align: middle;\n",
              "    }\n",
              "\n",
              "    .dataframe tbody tr th {\n",
              "        vertical-align: top;\n",
              "    }\n",
              "\n",
              "    .dataframe thead th {\n",
              "        text-align: right;\n",
              "    }\n",
              "</style>\n",
              "<table border=\"1\" class=\"dataframe\">\n",
              "  <thead>\n",
              "    <tr style=\"text-align: right;\">\n",
              "      <th></th>\n",
              "      <th>has_images</th>\n",
              "      <th>has_videos</th>\n",
              "      <th>likes</th>\n",
              "      <th>comments</th>\n",
              "      <th>version</th>\n",
              "      <th>reposts</th>\n",
              "      <th>is_repost</th>\n",
              "      <th>version</th>\n",
              "      <th>author_subscribers</th>\n",
              "      <th>time</th>\n",
              "      <th>k1</th>\n",
              "      <th>k2</th>\n",
              "    </tr>\n",
              "    <tr>\n",
              "      <th>cluster</th>\n",
              "      <th></th>\n",
              "      <th></th>\n",
              "      <th></th>\n",
              "      <th></th>\n",
              "      <th></th>\n",
              "      <th></th>\n",
              "      <th></th>\n",
              "      <th></th>\n",
              "      <th></th>\n",
              "      <th></th>\n",
              "      <th></th>\n",
              "      <th></th>\n",
              "    </tr>\n",
              "  </thead>\n",
              "  <tbody>\n",
              "    <tr>\n",
              "      <th>3</th>\n",
              "      <td>1.000000</td>\n",
              "      <td>0.0</td>\n",
              "      <td>1.935164</td>\n",
              "      <td>0.264992</td>\n",
              "      <td>2.322040</td>\n",
              "      <td>0.313474</td>\n",
              "      <td>0.0</td>\n",
              "      <td>2.322040</td>\n",
              "      <td>16065.303738</td>\n",
              "      <td>11.313132</td>\n",
              "      <td>0.013695</td>\n",
              "      <td>0.171055</td>\n",
              "    </tr>\n",
              "    <tr>\n",
              "      <th>6</th>\n",
              "      <td>0.000000</td>\n",
              "      <td>0.0</td>\n",
              "      <td>8.505221</td>\n",
              "      <td>0.794630</td>\n",
              "      <td>12.040776</td>\n",
              "      <td>1.027350</td>\n",
              "      <td>0.0</td>\n",
              "      <td>12.040776</td>\n",
              "      <td>32623.694679</td>\n",
              "      <td>219.599293</td>\n",
              "      <td>0.028506</td>\n",
              "      <td>0.038731</td>\n",
              "    </tr>\n",
              "    <tr>\n",
              "      <th>5</th>\n",
              "      <td>0.929524</td>\n",
              "      <td>0.0</td>\n",
              "      <td>121.407619</td>\n",
              "      <td>21.869524</td>\n",
              "      <td>3.992381</td>\n",
              "      <td>8.252381</td>\n",
              "      <td>0.0</td>\n",
              "      <td>3.992381</td>\n",
              "      <td>365895.854286</td>\n",
              "      <td>89.538879</td>\n",
              "      <td>0.039158</td>\n",
              "      <td>1.355921</td>\n",
              "    </tr>\n",
              "    <tr>\n",
              "      <th>8</th>\n",
              "      <td>1.000000</td>\n",
              "      <td>0.0</td>\n",
              "      <td>5.412667</td>\n",
              "      <td>0.601135</td>\n",
              "      <td>9.056586</td>\n",
              "      <td>0.715994</td>\n",
              "      <td>0.0</td>\n",
              "      <td>9.056586</td>\n",
              "      <td>13499.986965</td>\n",
              "      <td>311.106429</td>\n",
              "      <td>0.044547</td>\n",
              "      <td>0.017398</td>\n",
              "    </tr>\n",
              "    <tr>\n",
              "      <th>7</th>\n",
              "      <td>1.000000</td>\n",
              "      <td>0.0</td>\n",
              "      <td>6.946498</td>\n",
              "      <td>0.439321</td>\n",
              "      <td>32.787734</td>\n",
              "      <td>0.940844</td>\n",
              "      <td>0.0</td>\n",
              "      <td>32.787734</td>\n",
              "      <td>10363.453241</td>\n",
              "      <td>311.240556</td>\n",
              "      <td>0.071268</td>\n",
              "      <td>0.022319</td>\n",
              "    </tr>\n",
              "    <tr>\n",
              "      <th>1</th>\n",
              "      <td>0.500000</td>\n",
              "      <td>0.0</td>\n",
              "      <td>3098.500000</td>\n",
              "      <td>1520.000000</td>\n",
              "      <td>8.000000</td>\n",
              "      <td>308.750000</td>\n",
              "      <td>0.0</td>\n",
              "      <td>8.000000</td>\n",
              "      <td>756174.000000</td>\n",
              "      <td>311.240556</td>\n",
              "      <td>0.610772</td>\n",
              "      <td>9.955322</td>\n",
              "    </tr>\n",
              "    <tr>\n",
              "      <th>4</th>\n",
              "      <td>0.687500</td>\n",
              "      <td>0.0</td>\n",
              "      <td>5176.375000</td>\n",
              "      <td>113.500000</td>\n",
              "      <td>5.000000</td>\n",
              "      <td>281.000000</td>\n",
              "      <td>0.0</td>\n",
              "      <td>5.000000</td>\n",
              "      <td>486785.000000</td>\n",
              "      <td>217.604497</td>\n",
              "      <td>1.086696</td>\n",
              "      <td>23.787996</td>\n",
              "    </tr>\n",
              "    <tr>\n",
              "      <th>2</th>\n",
              "      <td>1.000000</td>\n",
              "      <td>0.0</td>\n",
              "      <td>18699.600000</td>\n",
              "      <td>327.200000</td>\n",
              "      <td>6.800000</td>\n",
              "      <td>736.800000</td>\n",
              "      <td>0.0</td>\n",
              "      <td>6.800000</td>\n",
              "      <td>812233.000000</td>\n",
              "      <td>311.240556</td>\n",
              "      <td>2.342530</td>\n",
              "      <td>60.080859</td>\n",
              "    </tr>\n",
              "  </tbody>\n",
              "</table>\n",
              "</div>"
            ],
            "text/plain": [
              "         has_images  has_videos         likes  ...        time        k1         k2\n",
              "cluster                                        ...                                 \n",
              "3          1.000000         0.0      1.935164  ...   11.313132  0.013695   0.171055\n",
              "6          0.000000         0.0      8.505221  ...  219.599293  0.028506   0.038731\n",
              "5          0.929524         0.0    121.407619  ...   89.538879  0.039158   1.355921\n",
              "8          1.000000         0.0      5.412667  ...  311.106429  0.044547   0.017398\n",
              "7          1.000000         0.0      6.946498  ...  311.240556  0.071268   0.022319\n",
              "1          0.500000         0.0   3098.500000  ...  311.240556  0.610772   9.955322\n",
              "4          0.687500         0.0   5176.375000  ...  217.604497  1.086696  23.787996\n",
              "2          1.000000         0.0  18699.600000  ...  311.240556  2.342530  60.080859\n",
              "\n",
              "[8 rows x 12 columns]"
            ]
          },
          "metadata": {
            "tags": []
          },
          "execution_count": 319
        }
      ]
    },
    {
      "cell_type": "markdown",
      "metadata": {
        "id": "lpDi1nF1BJnW"
      },
      "source": [
        "* cluster 2 - хорошая, живая группа, охват средний,  подписчиков много, однако активных мало, преимущественно с фото\n",
        "* cluster 4 - хорошая живая группа, охват средний, подписчиков мало для такого с фото и без  \n",
        "* cluster 1 - группа с накруткой подписчиков, кол-во лайков среднее по отношению к общему количеству\n",
        "* cluster 7 - развивающееся группа, кол-во активных подписчиков растет, хороший потенциал для дальнейшего сотрудничества\n",
        "* cluster 8 - развивающееся группа, кол-во активных подписчиков растет, в будущем, возможно, будет хороший потенциал для сотрудничества\n",
        "* cluster 5 - мертвая группа, возможно сильная накрутка или перепродажа сообщества\n",
        "* cluster 6 - средний сегмент группы, количество подписчиков среднее, интересный вариант для сотрудничества\n",
        "* cluster 3 - группа полумертвая, подписчики неохотно просматривают посты."
      ]
    },
    {
      "cell_type": "code",
      "metadata": {
        "colab": {
          "base_uri": "https://localhost:8080/",
          "height": 527
        },
        "id": "uJJdOb9nMbzd",
        "outputId": "020002cf-12af-4467-cf03-8b36037a6c44"
      },
      "source": [
        "K = range(1, 15)\n",
        "models = [KMeans(n_clusters=k, random_state=42).fit(new_data) for k in K]\n",
        "dist = [model.inertia_ for model in models]\n",
        "#Метод inertia_ вернёт сумму расстояний от каждой точки данных до центра ближайшего у ней кластера. \n",
        "#кластеризацию можно считать условно хорошей, когда инерция перестаёт сильно уменьшаться при увеличении числа кластеров.\n",
        "\n",
        "\n",
        "\n",
        "fig, ax = plt.subplots()\n",
        "fig.set_size_inches(11.7, 8.27)\n",
        "plt.plot(K, dist, marker='o')\n",
        "plt.xlabel('k')\n",
        "plt.ylabel('Sum of distances')\n",
        "plt.title('The Elbow Method showing the optimal k')\n",
        "plt.show()"
      ],
      "execution_count": 322,
      "outputs": [
        {
          "output_type": "display_data",
          "data": {
            "image/png": "[encoded data removed]",
            "text/plain": [
              "<Figure size 842.4x595.44 with 1 Axes>"
            ]
          },
          "metadata": {
            "tags": [],
            "needs_background": "light"
          }
        }
      ]
    }
  ]
}